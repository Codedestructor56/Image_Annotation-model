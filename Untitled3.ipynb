{
  "nbformat": 4,
  "nbformat_minor": 0,
  "metadata": {
    "colab": {
      "provenance": [],
      "collapsed_sections": [],
      "authorship_tag": "ABX9TyPz7Iwm60UMtzoxGrxTbndp",
      "include_colab_link": true
    },
    "kernelspec": {
      "name": "python3",
      "display_name": "Python 3"
    },
    "language_info": {
      "name": "python"
    }
  },
  "cells": [
    {
      "cell_type": "markdown",
      "metadata": {
        "id": "view-in-github",
        "colab_type": "text"
      },
      "source": [
        "<a href=\"https://colab.research.google.com/github/Codedestructor56/Image_Annotation-model/blob/main/Untitled3.ipynb\" target=\"_parent\"><img src=\"https://colab.research.google.com/assets/colab-badge.svg\" alt=\"Open In Colab\"/></a>"
      ]
    },
    {
      "cell_type": "code",
      "source": [
        "import torch\n",
        "import os\n",
        "from torch.utils import data\n",
        "from PIL import Image\n",
        "from torchvision import transforms\n",
        "from collections import defaultdict\n",
        "import json\n",
        "import numpy as np"
      ],
      "metadata": {
        "id": "hkmErhckNbZP"
      },
      "execution_count": 224,
      "outputs": []
    },
    {
      "cell_type": "code",
      "source": [
        "from google.colab import drive\n",
        "drive.mount('/content/gdrive',force_remount=True)"
      ],
      "metadata": {
        "colab": {
          "base_uri": "https://localhost:8080/"
        },
        "id": "4soPtcfigvco",
        "outputId": "bb100781-3180-4524-801c-27195e5cdb9f"
      },
      "execution_count": 225,
      "outputs": [
        {
          "output_type": "stream",
          "name": "stdout",
          "text": [
            "Mounted at /content/gdrive\n"
          ]
        }
      ]
    },
    {
      "cell_type": "code",
      "source": [
        "train_ims=os.listdir('/content/gdrive/MyDrive/train')"
      ],
      "metadata": {
        "id": "5U0G_e4pcqdn"
      },
      "execution_count": 226,
      "outputs": []
    },
    {
      "cell_type": "code",
      "source": [
        "os.path.exists('/content/gdrive/MyDrive/_annotations.coco.json')"
      ],
      "metadata": {
        "colab": {
          "base_uri": "https://localhost:8080/"
        },
        "id": "4UzVIOekekx_",
        "outputId": "6ee20158-5433-4e5a-a64a-04398f32b322"
      },
      "execution_count": 227,
      "outputs": [
        {
          "output_type": "execute_result",
          "data": {
            "text/plain": [
              "True"
            ]
          },
          "metadata": {},
          "execution_count": 227
        }
      ]
    },
    {
      "cell_type": "code",
      "source": [
        "f=open('/content/gdrive/MyDrive/_annotations.coco.json')\n",
        "print(len(json.loads(f.read())))"
      ],
      "metadata": {
        "colab": {
          "base_uri": "https://localhost:8080/"
        },
        "id": "N5hb0OftfkkO",
        "outputId": "2e296cd1-19bd-49d5-9a72-42dc2aef3b90"
      },
      "execution_count": 228,
      "outputs": [
        {
          "output_type": "stream",
          "name": "stdout",
          "text": [
            "5\n"
          ]
        }
      ]
    },
    {
      "cell_type": "code",
      "source": [
        "import json\n",
        "from collections import defaultdict\n",
        "image_ids_annotations = defaultdict(list)\n",
        "file=open('/content/gdrive/MyDrive/_annotations.coco.json','r+')\n",
        "anns=json.loads(file.read())\n",
        "for ann in anns['annotations']:\n",
        "    image_id = ann['image_id'] # Are integers\n",
        "    image_ids_annotations[image_id].append(ann)\n",
        "print(image_ids_annotations[165])"
      ],
      "metadata": {
        "colab": {
          "base_uri": "https://localhost:8080/"
        },
        "id": "4TIs3XMOkLI7",
        "outputId": "28b950e6-7b1c-45eb-952f-99d0f3427b76"
      },
      "execution_count": 229,
      "outputs": [
        {
          "output_type": "stream",
          "name": "stdout",
          "text": [
            "[{'id': 205, 'image_id': 165, 'category_id': 30, 'bbox': [95, 14, 34, 44], 'area': 1496, 'segmentation': [], 'iscrowd': 0}, {'id': 206, 'image_id': 165, 'category_id': 30, 'bbox': [488, 88, 30, 43], 'area': 1290, 'segmentation': [], 'iscrowd': 0}, {'id': 207, 'image_id': 165, 'category_id': 30, 'bbox': [70, 482, 86, 105], 'area': 9030, 'segmentation': [], 'iscrowd': 0}]\n"
          ]
        }
      ]
    },
    {
      "cell_type": "code",
      "source": [
        "category_id_annots=defaultdict(list)\n",
        "for ann in anns['categories']:\n",
        "    category_id_annots[ann['id']]=ann['name']\n",
        "print(category_id_annots)"
      ],
      "metadata": {
        "colab": {
          "base_uri": "https://localhost:8080/"
        },
        "id": "90FLp7HWpGkT",
        "outputId": "9369e990-f2f6-452b-9c49-fe4fa6fa4349"
      },
      "execution_count": 230,
      "outputs": [
        {
          "output_type": "stream",
          "name": "stdout",
          "text": [
            "defaultdict(<class 'list'>, {0: 'fight', 1: 'AXA', 2: 'Adidas', 3: 'Animoca Brands', 4: 'Betfred', 5: 'Cadbury', 6: 'Canon', 7: 'Carlsberg', 8: 'Casillero de Diablo', 9: 'Chevrolet', 10: 'Chivas', 11: 'DHL', 12: 'Dude Wipes', 13: 'Ecolab', 14: 'Etihad Airways', 15: 'Expedia', 16: 'Kohler', 17: 'Laybuy', 18: 'Marriot', 19: 'Maui Jim', 20: 'Melitta', 21: 'Mlily', 22: 'Nestle', 23: 'Nike', 24: 'Snapdragon', 25: 'Standard Chartered', 26: 'TeamViewer', 27: 'Therabody.', 28: 'Therabody_', 29: 'Visit Malta', 30: 'Wasabi'})\n"
          ]
        }
      ]
    },
    {
      "cell_type": "code",
      "source": [
        "from pycocotools.coco import COCO"
      ],
      "metadata": {
        "id": "K8s5kmCVdl_W"
      },
      "execution_count": 231,
      "outputs": []
    },
    {
      "cell_type": "code",
      "source": [
        "len(list(sorted(COCO('/content/gdrive/MyDrive/_annotations.coco.json').imgs.keys())))"
      ],
      "metadata": {
        "colab": {
          "base_uri": "https://localhost:8080/"
        },
        "id": "Dq3VkiMkdppj",
        "outputId": "cc7e7819-ef1a-4dab-f516-01930de92cc4"
      },
      "execution_count": 232,
      "outputs": [
        {
          "output_type": "stream",
          "name": "stdout",
          "text": [
            "loading annotations into memory...\n",
            "Done (t=0.03s)\n",
            "creating index...\n",
            "index created!\n"
          ]
        },
        {
          "output_type": "execute_result",
          "data": {
            "text/plain": [
              "3552"
            ]
          },
          "metadata": {},
          "execution_count": 232
        }
      ]
    },
    {
      "cell_type": "code",
      "source": [
        "class Annot_Im(data.Dataset):\n",
        "  def __init__(self,im_root,ann_root,transform):\n",
        "    self.im_root=im_root\n",
        "    self.ann_root=ann_root\n",
        "    self.transform=transform\n",
        "    self.ids=len(list(sorted(COCO('/content/gdrive/MyDrive/_annotations.coco.json').imgs.keys())))\n",
        "  def __getitem__(self,index):\n",
        "    image_ids_annotations = defaultdict(list)\n",
        "    file=open(self.ann_root,'r+')\n",
        "    anns=json.loads(file.read())\n",
        "    for ann in anns['annotations']:\n",
        "        image_id = ann['image_id'] # Are integers\n",
        "        image_ids_annotations[image_id].append(ann)\n",
        "    category_id_annots=defaultdict(list)\n",
        "    for ann in anns['categories']:\n",
        "        category_id_annots[ann['id']]=ann['name']\n",
        "    annot_im=anns['images'][index]['file_name']\n",
        "    if annot_im in os.listdir(self.im_root):\n",
        "      img=Image.open(os.path.join('/content/gdrive/MyDrive/train',annot_im))\n",
        "      image_anns = image_ids_annotations[index]\n",
        "      for i in image_anns:\n",
        "          bound=i['bbox']\n",
        "          boxes=[]\n",
        "          categories=[]\n",
        "          category=category_id_annots[i['category_id']]\n",
        "          x=float(bound[0])\n",
        "          y=float(bound[1])\n",
        "          w=float(bound[2])\n",
        "          h=float(bound[3])\n",
        "          boxes.append([x,y,w,h])\n",
        "          categories.append(category)\n",
        "      boxes = torch.as_tensor(boxes, dtype=torch.float32)\n",
        "    else:\n",
        "      return None\n",
        "    annotations={}\n",
        "    annotations[\"boxes\"] = boxes\n",
        "    annotations[\"categories\"] = categories\n",
        "    annotations[\"image_id\"] = image_id\n",
        "    if self.transform is not None:\n",
        "      img = self.transform(img)\n",
        "    return img,annotations\n",
        "  def __len__(self):\n",
        "    return self.ids"
      ],
      "metadata": {
        "id": "lxYdtVLZ2WyM"
      },
      "execution_count": 233,
      "outputs": []
    },
    {
      "cell_type": "code",
      "source": [
        "import torchvision\n",
        "def get_transform():\n",
        "  custom_transforms = []\n",
        "  custom_transforms.append(torchvision.transforms.ToTensor())\n",
        "  return torchvision.transforms.Compose(custom_transforms)"
      ],
      "metadata": {
        "id": "H9CW0ybDyMTw"
      },
      "execution_count": 234,
      "outputs": []
    },
    {
      "cell_type": "code",
      "source": [
        "my_dataset = Annot_Im('/content/gdrive/MyDrive/train','/content/gdrive/MyDrive/_annotations.coco.json',transform=get_transform())\n",
        "def collate_fn(batch):\n",
        "  return tuple(zip(*batch))\n",
        "train_batch_size=1\n",
        "data_loader = torch.utils.data.DataLoader(my_dataset\n",
        "                                          ,batch_size=train_batch_size,\n",
        "                                          shuffle=True,\n",
        "                                          num_workers=2,\n",
        "                                          collate_fn=collate_fn)"
      ],
      "metadata": {
        "colab": {
          "base_uri": "https://localhost:8080/"
        },
        "id": "22gA6ZzBUHOw",
        "outputId": "9c686322-1daa-4b04-99ce-121ea5bd7c14"
      },
      "execution_count": 235,
      "outputs": [
        {
          "output_type": "stream",
          "name": "stdout",
          "text": [
            "loading annotations into memory...\n",
            "Done (t=0.03s)\n",
            "creating index...\n",
            "index created!\n"
          ]
        }
      ]
    },
    {
      "cell_type": "code",
      "source": [
        "os.path.exists('/content/gdrive/MyDrive/train/1200px-Nestle_textlogo_blue-svg_png.rf.816ed0e5efa6f30453be2f6cd3b7ff4e.jpg')"
      ],
      "metadata": {
        "colab": {
          "base_uri": "https://localhost:8080/"
        },
        "id": "-S37UHEZklsK",
        "outputId": "3a1acb6b-eb15-4726-e48b-f878cb4c67ad"
      },
      "execution_count": 236,
      "outputs": [
        {
          "output_type": "execute_result",
          "data": {
            "text/plain": [
              "True"
            ]
          },
          "metadata": {},
          "execution_count": 236
        }
      ]
    },
    {
      "cell_type": "code",
      "source": [
        "\n",
        "dataiter=iter(data_loader)\n",
        "data=dataiter.next()\n",
        "features, labels=data\n",
        "print(features[0])"
      ],
      "metadata": {
        "colab": {
          "base_uri": "https://localhost:8080/"
        },
        "id": "MQAuBWHC-N1y",
        "outputId": "d361b6cd-8ffa-4f93-f6f2-bb4d387a4816"
      },
      "execution_count": 237,
      "outputs": [
        {
          "output_type": "stream",
          "name": "stdout",
          "text": [
            "tensor([[[0., 0., 0.,  ..., 0., 0., 0.],\n",
            "         [0., 0., 0.,  ..., 0., 0., 0.],\n",
            "         [0., 0., 0.,  ..., 0., 0., 0.],\n",
            "         ...,\n",
            "         [0., 0., 0.,  ..., 0., 0., 0.],\n",
            "         [0., 0., 0.,  ..., 0., 0., 0.],\n",
            "         [0., 0., 0.,  ..., 0., 0., 0.]],\n",
            "\n",
            "        [[0., 0., 0.,  ..., 0., 0., 0.],\n",
            "         [0., 0., 0.,  ..., 0., 0., 0.],\n",
            "         [0., 0., 0.,  ..., 0., 0., 0.],\n",
            "         ...,\n",
            "         [0., 0., 0.,  ..., 0., 0., 0.],\n",
            "         [0., 0., 0.,  ..., 0., 0., 0.],\n",
            "         [0., 0., 0.,  ..., 0., 0., 0.]],\n",
            "\n",
            "        [[0., 0., 0.,  ..., 0., 0., 0.],\n",
            "         [0., 0., 0.,  ..., 0., 0., 0.],\n",
            "         [0., 0., 0.,  ..., 0., 0., 0.],\n",
            "         ...,\n",
            "         [0., 0., 0.,  ..., 0., 0., 0.],\n",
            "         [0., 0., 0.,  ..., 0., 0., 0.],\n",
            "         [0., 0., 0.,  ..., 0., 0., 0.]]])\n"
          ]
        }
      ]
    },
    {
      "cell_type": "code",
      "source": [
        "device= torch.device('cuda') if torch.cuda.is_available() else torch.device('cpu')\n",
        "import matplotlib.pyplot as plt\n",
        "import matplotlib.image as mpimg\n",
        "import matplotlib.patches as patch\n",
        "import numpy as np\n",
        "trainloader=iter(data_loader)\n",
        "images,labels1=trainloader.next()\n",
        "images=images[0]\n",
        "images=images.to(device)\n",
        "print(labels1[0]['categories'][0])\n",
        "def coord(i=0):\n",
        "  return labels1[0]['boxes'][0][i]"
      ],
      "metadata": {
        "colab": {
          "base_uri": "https://localhost:8080/"
        },
        "id": "wtRiVH_kieok",
        "outputId": "2abd2695-38e2-4a70-ef23-af7dfad993b5"
      },
      "execution_count": 238,
      "outputs": [
        {
          "output_type": "stream",
          "name": "stdout",
          "text": [
            "Chivas\n"
          ]
        }
      ]
    },
    {
      "cell_type": "code",
      "source": [
        "def Image_disp(image):  \n",
        "  fig,ax=plt.subplots()\n",
        "  plt.text(coord(0)+1, coord(1)-5, labels1[0]['categories'][0],fontdict={'fontsize':18.0, 'fontweight':'medium','color': 'white', 'backgroundcolor':'red'})\n",
        "  bb = patch.Rectangle((coord(0), coord(1)), coord(2), coord(3), linewidth=2, edgecolor='red', facecolor='none')\n",
        "  ax.add_patch(bb)\n",
        "  ax.axis('off')\n",
        "  ax.imshow(image.permute(1,2,0))\n",
        "  plt.show()\n",
        "Image_disp(images)"
      ],
      "metadata": {
        "colab": {
          "base_uri": "https://localhost:8080/",
          "height": 248
        },
        "id": "7F0IKWzJmklW",
        "outputId": "28274bb1-a7a7-43d9-a876-f0b69c895cab"
      },
      "execution_count": 239,
      "outputs": [
        {
          "output_type": "display_data",
          "data": {
            "text/plain": [
              "<Figure size 432x288 with 1 Axes>"
            ],
            "image/png": "[encoded data removed]"
          },
          "metadata": {
            "needs_background": "light"
          }
        }
      ]
    },
    {
      "cell_type": "code",
      "source": [
        "from torch import nn\n",
        "class Annot_Architecture(nn.Module):\n",
        "  def __init__(self):\n",
        "    pass"
      ],
      "metadata": {
        "id": "EQzCbUd8ATO9"
      },
      "execution_count": 240,
      "outputs": []
    },
    {
      "cell_type": "code",
      "source": [
        "model = dict(\n",
        "    type='CascadeRCNN',\n",
        "    pretrained='/apdcephfs/share_1290939/jiaxiaojun/Open_brand/checkpoints/resnet50-19c8e357.pth',\n",
        "    backbone=dict(\n",
        "        type='DetectoRS_ResNet',\n",
        "        depth=50, \n",
        "        num_stages=4,\n",
        "        out_indices=(0, 1, 2, 3),\n",
        "        frozen_stages=1,\n",
        "        norm_cfg=dict(type='SyncBN', requires_grad=True),\n",
        "        norm_eval=True,\n",
        "        style='pytorch',\n",
        "        conv_cfg=dict(type='ConvAWS'),\n",
        "        sac=dict(type='SAC', use_deform=True),\n",
        "        stage_with_sac=(False, True, True, True),\n",
        "        output_img=True),\n",
        "    neck=dict(\n",
        "        type='RFP',\n",
        "        in_channels=[256, 512, 1024, 2048],\n",
        "        out_channels=256,\n",
        "        num_outs=5,\n",
        "        rfp_steps=2,\n",
        "        aspp_out_channels=64,\n",
        "        aspp_dilations=(1, 3, 6, 1),\n",
        "        rfp_backbone=dict(\n",
        "            rfp_inplanes=256,\n",
        "            type='DetectoRS_ResNet',\n",
        "            depth=50,\n",
        "            num_stages=4,\n",
        "            out_indices=(0, 1, 2, 3),\n",
        "            frozen_stages=1,\n",
        "            norm_cfg=dict(type='SyncBN', requires_grad=True),\n",
        "            norm_eval=True,\n",
        "            conv_cfg=dict(type='ConvAWS'),\n",
        "            sac=dict(type='SAC', use_deform=True),\n",
        "            stage_with_sac=(False, True, True, True),\n",
        "            pretrained='/apdcephfs/share_1290939/jiaxiaojun/Open_brand/checkpoints/resnet50-19c8e357.pth',\n",
        "            style='pytorch')),\n",
        "    rpn_head=dict(\n",
        "        type='RPNHead',\n",
        "        in_channels=256,\n",
        "        feat_channels=256,\n",
        "        anchor_generator=dict(\n",
        "            type='AnchorGenerator',\n",
        "            scales=[8],\n",
        "            ratios=[1.0, 1.5, 2.5, 3.0], \n",
        "            strides=[4, 8, 16, 32, 64]),\n",
        "        bbox_coder=dict(\n",
        "            type='DeltaXYWHBBoxCoder',\n",
        "            target_means=[0.0, 0.0, 0.0, 0.0],\n",
        "            target_stds=[1.0, 1.0, 1.0, 1.0]),\n",
        "        loss_cls=dict(\n",
        "            type='CrossEntropyLoss', use_sigmoid=True, loss_weight=1.0),    \n",
        "        loss_bbox=dict(\n",
        "            type='SmoothL1Loss', beta=0.1111111111111111, loss_weight=1.0)),\n",
        "    roi_head=dict(\n",
        "        type='CascadeRoIHead',\n",
        "        num_stages=3,\n",
        "        stage_loss_weights=[1, 0.5, 0.25],\n",
        "        bbox_roi_extractor=dict(\n",
        "            type='SingleRoIExtractor',\n",
        "            roi_layer=dict(type='RoIAlign', output_size=7, sampling_ratio=0),\n",
        "            out_channels=256,\n",
        "            featmap_strides=[4, 8, 16, 32]),\n",
        "        bbox_head=[\n",
        "            dict(\n",
        "                type='Shared2FCBBoxHead',\n",
        "                in_channels=256,\n",
        "                fc_out_channels=1024,\n",
        "                roi_feat_size=7,\n",
        "                num_classes=515,          \n",
        "                bbox_coder=dict(\n",
        "                    type='DeltaXYWHBBoxCoder',\n",
        "                    target_means=[0.0, 0.0, 0.0, 0.0],\n",
        "                    target_stds=[0.1, 0.1, 0.2, 0.2]),\n",
        "                reg_class_agnostic=True,\n",
        "                loss_cls=dict(type='EQLv2'), \n",
        "                loss_bbox=dict(type='SmoothL1Loss', beta=1.0,\n",
        "                               loss_weight=1.0)),\n",
        "            dict(\n",
        "                type='Shared2FCBBoxHead',\n",
        "                in_channels=256,\n",
        "                fc_out_channels=1024,\n",
        "                roi_feat_size=7,\n",
        "                num_classes=515,             \n",
        "                bbox_coder=dict(\n",
        "                    type='DeltaXYWHBBoxCoder',\n",
        "                    target_means=[0.0, 0.0, 0.0, 0.0],\n",
        "                    target_stds=[0.05, 0.05, 0.1, 0.1]),\n",
        "                reg_class_agnostic=True,\n",
        "                loss_cls=dict(type='EQLv2'), \n",
        "                loss_bbox=dict(type='SmoothL1Loss', beta=1.0,\n",
        "                               loss_weight=1.0)),  \n",
        "            dict(\n",
        "                type='Shared2FCBBoxHead',\n",
        "                in_channels=256,\n",
        "                fc_out_channels=1024,\n",
        "                roi_feat_size=7,\n",
        "                num_classes=515,          \n",
        "                bbox_coder=dict(\n",
        "                    type='DeltaXYWHBBoxCoder',\n",
        "                    target_means=[0.0, 0.0, 0.0, 0.0],\n",
        "                    target_stds=[0.033, 0.033, 0.067, 0.067]),\n",
        "                reg_class_agnostic=True,\n",
        "                loss_cls=dict(type='EQLv2'), \n",
        "                loss_bbox=dict(type='SmoothL1Loss', beta=1.0, loss_weight=1.0))\n",
        "        ]),\n",
        "    train_cfg=dict(\n",
        "        rpn=dict(\n",
        "            assigner=dict(\n",
        "                type='MaxIoUAssigner',\n",
        "                pos_iou_thr=0.7,\n",
        "                neg_iou_thr=0.3,\n",
        "                min_pos_iou=0.3,\n",
        "                match_low_quality=True,\n",
        "                ignore_iof_thr=-1),\n",
        "            sampler=dict(\n",
        "                type='RandomSampler',\n",
        "                num=256,             \n",
        "                pos_fraction=0.5,\n",
        "                neg_pos_ub=-1,\n",
        "                add_gt_as_proposals=False),\n",
        "            allowed_border=0,\n",
        "            pos_weight=-1,\n",
        "            debug=False),\n",
        "        rpn_proposal=dict(\n",
        "            nms_pre=2000,\n",
        "            max_per_img=2000,\n",
        "            nms=dict(type='nms', iou_threshold=0.7),\n",
        "            min_bbox_size=0),\n",
        "        rcnn=[\n",
        "            dict(\n",
        "                assigner=dict(\n",
        "                    type='MaxIoUAssigner',\n",
        "                    pos_iou_thr=0.5,\n",
        "                    neg_iou_thr=0.5,\n",
        "                    min_pos_iou=0.5,\n",
        "                    match_low_quality=False,\n",
        "                    ignore_iof_thr=-1),\n",
        "                sampler=dict(\n",
        "                    type='RandomSampler',\n",
        "                    num=512,       \n",
        "                    pos_fraction=0.25,\n",
        "                    neg_pos_ub=-1,\n",
        "                    add_gt_as_proposals=True),\n",
        "                pos_weight=-1,\n",
        "                debug=False),\n",
        "            dict(\n",
        "                assigner=dict(\n",
        "                    type='MaxIoUAssigner',\n",
        "                    pos_iou_thr=0.6,\n",
        "                    neg_iou_thr=0.6,\n",
        "                    min_pos_iou=0.6,\n",
        "                    match_low_quality=False,\n",
        "                    ignore_iof_thr=-1),\n",
        "                sampler=dict(\n",
        "                    type='RandomSampler',\n",
        "                    num=512,       \n",
        "                    pos_fraction=0.25,\n",
        "                    neg_pos_ub=-1,\n",
        "                    add_gt_as_proposals=True),\n",
        "                pos_weight=-1,\n",
        "                debug=False),\n",
        "            dict(\n",
        "                assigner=dict(\n",
        "                    type='MaxIoUAssigner',\n",
        "                    pos_iou_thr=0.7,\n",
        "                    neg_iou_thr=0.7,\n",
        "                    min_pos_iou=0.7,\n",
        "                    match_low_quality=False,\n",
        "                    ignore_iof_thr=-1),\n",
        "                sampler=dict(\n",
        "                    type='RandomSampler',\n",
        "                    num=512,   \n",
        "                    pos_fraction=0.25,\n",
        "                    neg_pos_ub=-1,\n",
        "                    add_gt_as_proposals=True),\n",
        "                pos_weight=-1,\n",
        "                debug=False)\n",
        "        ]),\n",
        "    test_cfg=dict(\n",
        "        rpn=dict(\n",
        "            nms_pre=5000,          \n",
        "            max_per_img=5000,     \n",
        "            nms=dict(type='nms', iou_threshold=0.7),  \n",
        "            min_bbox_size=0),\n",
        "        rcnn=dict(\n",
        "            score_thr=0.01,       \n",
        "            nms = dict(type='soft_nms', iou_thr=0.5, min_score=0.001),\n",
        "            #nms=dict(type='nms', iou_threshold=0.5),  \n",
        "            max_per_img=100)))  \n",
        "dataset_type = 'OpenBrandDataset'\n",
        "data_root = 'data/MM2021/'\n",
        "img_norm_cfg = dict(\n",
        "    mean=[123.675, 116.28, 103.53], std=[58.395, 57.12, 57.375], to_rgb=True)\n",
        "train_pipeline = [\n",
        "    dict(type='LoadImageFromFile'),\n",
        "    dict(type='LoadAnnotations', with_bbox=True),\n",
        "    dict(\n",
        "        type='Resize',\n",
        "        img_scale=[(1333, 800), (1333, 900), (1333, 1000), (1333, 1100)],\n",
        "        multiscale_mode='value',\n",
        "        keep_ratio=True),\n",
        "    dict(\n",
        "        type='Albu',\n",
        "        transforms=[\n",
        "            dict(\n",
        "                type='ShiftScaleRotate',\n",
        "                shift_limit=0.0625,\n",
        "                scale_limit=0.0,\n",
        "                rotate_limit=0,\n",
        "                interpolation=1,\n",
        "                p=0.5),\n",
        "            dict(\n",
        "                type='RandomBrightnessContrast',\n",
        "                brightness_limit=[0.1, 0.3],\n",
        "                contrast_limit=[0.1, 0.3],\n",
        "                p=0.2),\n",
        "            dict(\n",
        "                type='OneOf',\n",
        "                transforms=[\n",
        "                    dict(\n",
        "                        type='RGBShift',\n",
        "                        r_shift_limit=10,\n",
        "                        g_shift_limit=10,\n",
        "                        b_shift_limit=10,\n",
        "                        p=1.0),\n",
        "                    dict(\n",
        "                        type='HueSaturationValue',\n",
        "                        hue_shift_limit=20,\n",
        "                        sat_shift_limit=30,\n",
        "                        val_shift_limit=20,\n",
        "                        p=1.0)\n",
        "                ],\n",
        "                p=0.1),\n",
        "            dict(\n",
        "                type='JpegCompression',\n",
        "                quality_lower=85,\n",
        "                quality_upper=95,\n",
        "                p=0.2),\n",
        "            dict(type='ChannelShuffle', p=0.1),\n",
        "            dict(\n",
        "     \n",
        "                type='OneOf',\n",
        "                transforms=[\n",
        "                    dict(type='MotionBlur', p=1.0),\n",
        "                    dict(type='Blur', blur_limit=3, p=1.0),\n",
        "                    dict(type='MedianBlur', blur_limit=3, p=1.0)\n",
        "                ],\n",
        "                p=0.1),\n",
        "            dict(\n",
        "                type='OneOf',\n",
        "                transforms=[\n",
        "                    dict(type='RandomFog', fog_coef_lower=0.7, fog_coef_upper=0.8, alpha_coef=0.1, p=1.0),\n",
        "                    dict(type='RandomRain', brightness_coefficient=0.9, drop_width=1, blur_value=5, p=1.0)\n",
        "                ],\n",
        "                p=0.1),\n",
        "            dict(\n",
        "                type='OneOf',\n",
        "                transforms=[\n",
        "                    dict(type='IAAAdditiveGaussianNoise'),\n",
        "                    dict(type='GaussNoise')\n",
        "                ],\n",
        "                p=0.1)\n",
        "        ],\n",
        "        bbox_params=dict(\n",
        "            type='BboxParams',\n",
        "            format='pascal_voc',\n",
        "            label_fields=['gt_labels'],\n",
        "            min_visibility=0.0,\n",
        "            filter_lost_elements=True),\n",
        "        keymap=dict(img='image', gt_bboxes='bboxes'),\n",
        "        update_pad_shape=False,\n",
        "        skip_img_without_anno=True),\n",
        "    dict(type='RandomFlip', flip_ratio=0.5),  \n",
        "    dict(\n",
        "        type='Normalize',\n",
        "        mean=[123.675, 116.28, 103.53],\n",
        "        std=[58.395, 57.12, 57.375],\n",
        "        to_rgb=True),\n",
        "    dict(type='Pad', size_divisor=32),\n",
        "    dict(type='DefaultFormatBundle'),\n",
        "    dict(type='Collect', keys=['img', 'gt_bboxes', 'gt_labels'])\n",
        "]\n",
        "test_pipeline = [\n",
        "    dict(type='LoadImageFromFile'),\n",
        "    dict(\n",
        "        type='MultiScaleFlipAug',\n",
        "        img_scale=[(1333, 800), (1333, 864), (1333, 928), (1333,992),\n",
        "                   (1333, 1056), (1333,1120), (1333,1184),(1333,1248)],\n",
        "        flip=True,\n",
        "        transforms=[\n",
        "            dict(type='Resize', keep_ratio=True),\n",
        "            dict(type='RandomFlip'),\n",
        "            dict(\n",
        "                type='Normalize',\n",
        "                mean=[123.675, 116.28, 103.53],\n",
        "                std=[58.395, 57.12, 57.375],\n",
        "                to_rgb=True),\n",
        "            dict(type='Pad', size_divisor=32), \n",
        "            dict(type='ImageToTensor', keys=['img']),\n",
        "            dict(type='Collect', keys=['img'])\n",
        "        ])\n",
        "]\n",
        "data = dict(\n",
        "    samples_per_gpu=4,\n",
        "    workers_per_gpu=2,\n",
        "    train=dict(\n",
        "        type='ClassBalancedDataset',\n",
        "        oversample_thr=0.002,    \n",
        "        dataset=dict(\n",
        "            type=dataset_type,\n",
        "            ann_file=data_root + 'annotations/openbrand_train.json',\n",
        "            img_prefix=data_root + 'train-images/',\n",
        "            pipeline=[\n",
        "                dict(type='LoadImageFromFile'),\n",
        "                dict(type='LoadAnnotations', with_bbox=True),\n",
        "                dict(\n",
        "                    type='Resize',\n",
        "                    img_scale=[(1333, 800), (1333, 900), (1333, 1000), (1333, 1100)],\n",
        "                    multiscale_mode='value',\n",
        "                    keep_ratio=True),\n",
        "                dict(\n",
        "                    type='Albu',\n",
        "                    transforms=[\n",
        "                        dict(\n",
        "                            type='ShiftScaleRotate',\n",
        "                            shift_limit=0.0625,\n",
        "                            scale_limit=0.0,\n",
        "                            rotate_limit=0,\n",
        "                            interpolation=1,\n",
        "                            p=0.5),\n",
        "                        dict(\n",
        "                            type='RandomBrightnessContrast',\n",
        "                            brightness_limit=[0.1, 0.3],\n",
        "                            contrast_limit=[0.1, 0.3],\n",
        "                            p=0.2),\n",
        "                        dict(\n",
        "                            type='OneOf',\n",
        "                            transforms=[\n",
        "                                dict(\n",
        "                                    type='RGBShift',\n",
        "                                    r_shift_limit=10,\n",
        "                                    g_shift_limit=10,\n",
        "                                    b_shift_limit=10,\n",
        "                                    p=1.0),\n",
        "                                dict(\n",
        "                                    type='HueSaturationValue',\n",
        "                                    hue_shift_limit=20,\n",
        "                                    sat_shift_limit=30,\n",
        "                                    val_shift_limit=20,\n",
        "                                    p=1.0)\n",
        "                            ],\n",
        "                            p=0.1),\n",
        "                        dict(\n",
        "                            type='JpegCompression',\n",
        "                            quality_lower=85,\n",
        "                            quality_upper=95,\n",
        "                            p=0.2),\n",
        "                        dict(type='ChannelShuffle', p=0.1),\n",
        "                        dict(\n",
        "                            type='OneOf',\n",
        "                            transforms=[\n",
        "                                dict(type='MotionBlur', p=1.0),\n",
        "                                dict(type='Blur', blur_limit=3, p=1.0),\n",
        "                                dict(type='MedianBlur', blur_limit=3, p=1.0)\n",
        "                            ],\n",
        "                            p=0.1),\n",
        "                        dict(\n",
        "                            type='OneOf',\n",
        "                            transforms=[\n",
        "                                dict(type='RandomFog', fog_coef_lower=0.7, fog_coef_upper=0.8, alpha_coef=0.1, p=1.0),\n",
        "                                dict(type='RandomRain', brightness_coefficient=0.9, drop_width=1, blur_value=5, p=1.0)\n",
        "                            ],\n",
        "                            p=0.1),\n",
        "                        dict(\n",
        "                            type='OneOf',\n",
        "                            transforms=[\n",
        "                                dict(type='IAAAdditiveGaussianNoise'),\n",
        "                                dict(type='GaussNoise')\n",
        "                            ],\n",
        "                            p=0.1)\n",
        "                    ],\n",
        "                    bbox_params=dict(\n",
        "                        type='BboxParams',\n",
        "                        format='pascal_voc',\n",
        "                        label_fields=['gt_labels'],\n",
        "                        min_visibility=0.0,\n",
        "                        filter_lost_elements=True),\n",
        "                    keymap=dict(img='image', gt_bboxes='bboxes'),\n",
        "                    update_pad_shape=False,\n",
        "                    skip_img_without_anno=True),\n",
        "                dict(type='RandomFlip', flip_ratio=0.5),\n",
        "                dict(\n",
        "                    type='Normalize',\n",
        "                    mean=[123.675, 116.28, 103.53],\n",
        "                    std=[58.395, 57.12, 57.375],\n",
        "                    to_rgb=True),\n",
        "                dict(type='Pad', size_divisor=32),\n",
        "                dict(type='DefaultFormatBundle'),\n",
        "                dict(type='Collect', keys=['img', 'gt_bboxes', 'gt_labels'])\n",
        "            ])),\n",
        "    val=dict(\n",
        "        type=dataset_type,\n",
        "        ann_file=data_root + 'annotations/instances_brand_val_hybrid2.json',\n",
        "        img_prefix=data_root + 'brand_val_images_hybrid_2/',\n",
        "        pipeline=[\n",
        "            dict(type='LoadImageFromFile'),\n",
        "            dict(\n",
        "                type='MultiScaleFlipAug',\n",
        "                img_scale=(1333, 1000),\n",
        "                flip=True,\n",
        "                transforms=[\n",
        "                    dict(type='Resize', keep_ratio=True),\n",
        "                    dict(type='RandomFlip'),\n",
        "                    dict(\n",
        "                        type='Normalize',\n",
        "                        mean=[123.675, 116.28, 103.53],\n",
        "                        std=[58.395, 57.12, 57.375],\n",
        "                        to_rgb=True),\n",
        "                    dict(type='Pad', size_divisor=32),\n",
        "                    dict(type='ImageToTensor', keys=['img']),\n",
        "                    dict(type='Collect', keys=['img'])\n",
        "                ])\n",
        "        ]),\n",
        "    test=dict(\n",
        "        type=dataset_type,\n",
        "        ann_file=data_root + 'annotations/testB_imgList.json',\n",
        "        img_prefix=data_root + 'testB-images/',\n",
        "        pipeline=[\n",
        "            dict(type='LoadImageFromFile'),\n",
        "            dict(\n",
        "                type='MultiScaleFlipAug',\n",
        "                img_scale=[(1333, 800), (1333, 864), (1333, 928), (1333,992),\n",
        "                   (1333, 1056), (1333,1120), (1333,1184),(1333,1248)],\n",
        "                flip=True,\n",
        "                transforms=[\n",
        "                    dict(type='Resize', keep_ratio=True),\n",
        "                    dict(type='RandomFlip'),\n",
        "                    dict(\n",
        "                        type='Normalize',\n",
        "                        mean=[123.675, 116.28, 103.53],\n",
        "                        std=[58.395, 57.12, 57.375],\n",
        "                        to_rgb=True),\n",
        "                    dict(type='Pad', size_divisor=32),\n",
        "                    dict(type='ImageToTensor', keys=['img']),\n",
        "                    dict(type='Collect', keys=['img'])\n",
        "                ])\n",
        "        ]))\n",
        "evaluation = dict(interval=1, metric='bbox')\n",
        "optimizer = dict(type='SGD', lr=0.01, momentum=0.9, weight_decay=0.0001)\n",
        "optimizer_config = dict(grad_clip=dict(max_norm=5, norm_type=2))\n",
        "lr_config = dict(\n",
        "    policy='step',\n",
        "    warmup='linear',\n",
        "    warmup_iters=500,\n",
        "    warmup_ratio=0.001,\n",
        "    step=[8,12,16])\n",
        "runner = dict(type='EpochBasedRunner', max_epochs=18)\n",
        "checkpoint_config = dict(interval=1)\n",
        "log_config = dict(interval=64, hooks=[dict(type='TextLoggerHook')])\n",
        "#custom_hooks = [dict(type='NumClassCheckHook')]\n",
        "dist_params = dict(backend='nccl')\n",
        "log_level = 'INFO'\n",
        "load_from=\"/apdcephfs/share_1290939/jiaxiaojun/OpenBrandData/output_detectors_ratio-multinode/epoch_14.pth\"\n",
        "resume_from=None\n",
        "workflow = [('train', 1)]\n",
        "albu_train_transforms = [\n",
        "    dict(\n",
        "        type='ShiftScaleRotate',\n",
        "        shift_limit=0.0625,\n",
        "        scale_limit=0.0,\n",
        "        rotate_limit=0,\n",
        "        interpolation=1,\n",
        "        p=0.5),\n",
        "    dict(\n",
        "        type='RandomBrightnessContrast',\n",
        "        brightness_limit=[0.1, 0.3],\n",
        "        contrast_limit=[0.1, 0.3],\n",
        "        p=0.2),\n",
        "    dict(\n",
        "        type='OneOf',\n",
        "        transforms=[\n",
        "            dict(\n",
        "                type='RGBShift',\n",
        "                r_shift_limit=10,\n",
        "                g_shift_limit=10,\n",
        "                b_shift_limit=10,\n",
        "                p=1.0),\n",
        "            dict(\n",
        "                type='HueSaturationValue',\n",
        "                hue_shift_limit=20,\n",
        "                sat_shift_limit=30,\n",
        "                val_shift_limit=20,\n",
        "                p=1.0)\n",
        "        ],\n",
        "        p=0.1),\n",
        "    dict(type='JpegCompression', quality_lower=85, quality_upper=95, p=0.2),\n",
        "    dict(type='ChannelShuffle', p=0.1),\n",
        "    dict(\n",
        "        type='OneOf',\n",
        "        transforms=[\n",
        "            dict(type='MotionBlur',p=1.0),\n",
        "            dict(type='Blur', blur_limit=3, p=1.0),\n",
        "            dict(type='MedianBlur', blur_limit=3, p=1.0)\n",
        "        ],\n",
        "        p=0.1),\n",
        "    dict(\n",
        "        type='OneOf',\n",
        "        transforms=[\n",
        "            dict(type='RandomFog', fog_coef_lower=0.7, fog_coef_upper=0.8, alpha_coef=0.1, p=1.0),\n",
        "            dict(type='RandomRain', brightness_coefficient=0.9, drop_width=1, blur_value=5, p=1.0)\n",
        "        ],\n",
        "        p=0.1),\n",
        "    dict(\n",
        "        type='OneOf',\n",
        "        transforms=[\n",
        "            dict(type='IAAAdditiveGaussianNoise'),\n",
        "            dict(type='GaussNoise')\n",
        "        ],\n",
        "        p=0.1)\n",
        "]"
      ],
      "metadata": {
        "id": "eYFiHvFfhqjv"
      },
      "execution_count": 241,
      "outputs": []
    }
  ]
}