{
  "cells": [
    {
      "cell_type": "code",
      "execution_count": null,
      "metadata": {
        "id": "hkmErhckNbZP"
      },
      "outputs": [],
      "source": [
        "import torch\n",
        "import os\n",
        "from torch.utils import data\n",
        "from PIL import Image\n",
        "from torchvision import transforms\n",
        "from collections import defaultdict\n",
        "import json\n",
        "import numpy as np"
      ]
    },
    {
      "cell_type": "code",
      "source": [
        "torch.cuda.is_available()"
      ],
      "metadata": {
        "colab": {
          "base_uri": "https://localhost:8080/"
        },
        "id": "epMlKlfMOpyy",
        "outputId": "b9695982-da51-4b54-86a3-be4c60b47884"
      },
      "execution_count": null,
      "outputs": [
        {
          "output_type": "execute_result",
          "data": {
            "text/plain": [
              "False"
            ]
          },
          "metadata": {},
          "execution_count": 290
        }
      ]
    },
    {
      "cell_type": "code",
      "source": [
        "!nvidia-smi"
      ],
      "metadata": {
        "colab": {
          "base_uri": "https://localhost:8080/"
        },
        "id": "zNu-HkL4Oh66",
        "outputId": "dfbd4283-6f07-420d-f58c-cd4412bc4884"
      },
      "execution_count": null,
      "outputs": [
        {
          "output_type": "stream",
          "name": "stdout",
          "text": [
            "NVIDIA-SMI has failed because it couldn't communicate with the NVIDIA driver. Make sure that the latest NVIDIA driver is installed and running.\n",
            "\n"
          ]
        }
      ]
    },
    {
      "cell_type": "code",
      "execution_count": null,
      "metadata": {
        "id": "4soPtcfigvco"
      },
      "outputs": [],
      "source": [
        "from google.colab import drive\n",
        "drive.flush_and_unmount()\n"
      ]
    },
    {
      "cell_type": "code",
      "source": [
        "drive.mount('/content/gdrive',force_remount=True)"
      ],
      "metadata": {
        "colab": {
          "base_uri": "https://localhost:8080/"
        },
        "id": "MdVRh_eqJx-M",
        "outputId": "e823800e-761a-4a49-a516-7f087c6b646a"
      },
      "execution_count": null,
      "outputs": [
        {
          "output_type": "stream",
          "name": "stdout",
          "text": [
            "Mounted at /content/gdrive\n"
          ]
        }
      ]
    },
    {
      "cell_type": "code",
      "execution_count": null,
      "metadata": {
        "id": "5U0G_e4pcqdn"
      },
      "outputs": [],
      "source": [
        "train_ims=os.listdir('/content/gdrive/MyDrive/train')"
      ]
    },
    {
      "cell_type": "code",
      "execution_count": null,
      "metadata": {
        "id": "4UzVIOekekx_",
        "colab": {
          "base_uri": "https://localhost:8080/"
        },
        "outputId": "04bc0a07-86a4-49d8-d4c6-d1ad07e701fd"
      },
      "outputs": [
        {
          "output_type": "execute_result",
          "data": {
            "text/plain": [
              "True"
            ]
          },
          "metadata": {},
          "execution_count": 295
        }
      ],
      "source": [
        "os.path.exists('/content/gdrive/MyDrive/_annotations.coco.json')"
      ]
    },
    {
      "cell_type": "code",
      "execution_count": null,
      "metadata": {
        "id": "N5hb0OftfkkO",
        "colab": {
          "base_uri": "https://localhost:8080/"
        },
        "outputId": "1909a375-6d46-48ca-9932-9e71a299e28a"
      },
      "outputs": [
        {
          "output_type": "stream",
          "name": "stdout",
          "text": [
            "5\n"
          ]
        }
      ],
      "source": [
        "f=open('/content/gdrive/MyDrive/_annotations.coco.json')\n",
        "print(len(json.loads(f.read())))"
      ]
    },
    {
      "cell_type": "code",
      "execution_count": null,
      "metadata": {
        "id": "4TIs3XMOkLI7",
        "colab": {
          "base_uri": "https://localhost:8080/"
        },
        "outputId": "c7b1a486-d6b5-4472-d790-701b3f2abaf6"
      },
      "outputs": [
        {
          "output_type": "stream",
          "name": "stdout",
          "text": [
            "[{'id': 205, 'image_id': 165, 'category_id': 30, 'bbox': [95, 14, 34, 44], 'area': 1496, 'segmentation': [], 'iscrowd': 0}, {'id': 206, 'image_id': 165, 'category_id': 30, 'bbox': [488, 88, 30, 43], 'area': 1290, 'segmentation': [], 'iscrowd': 0}, {'id': 207, 'image_id': 165, 'category_id': 30, 'bbox': [70, 482, 86, 105], 'area': 9030, 'segmentation': [], 'iscrowd': 0}]\n"
          ]
        }
      ],
      "source": [
        "import json\n",
        "from collections import defaultdict\n",
        "image_ids_annotations = defaultdict(list)\n",
        "file=open('/content/gdrive/MyDrive/_annotations.coco.json','r+')\n",
        "anns=json.loads(file.read())\n",
        "for ann in anns['annotations']:\n",
        "    image_id = ann['image_id'] # Are integers\n",
        "    image_ids_annotations[image_id].append(ann)\n",
        "print(image_ids_annotations[165])"
      ]
    },
    {
      "cell_type": "code",
      "execution_count": null,
      "metadata": {
        "id": "90FLp7HWpGkT",
        "colab": {
          "base_uri": "https://localhost:8080/"
        },
        "outputId": "0f506b40-48e1-43ee-9367-69a505ad5ba5"
      },
      "outputs": [
        {
          "output_type": "stream",
          "name": "stdout",
          "text": [
            "['fight', 'AXA', 'Adidas', 'Animoca Brands', 'Betfred', 'Cadbury', 'Canon', 'Carlsberg', 'Casillero de Diablo', 'Chevrolet', 'Chivas', 'DHL', 'Dude Wipes', 'Ecolab', 'Etihad Airways', 'Expedia', 'Kohler', 'Laybuy', 'Marriot', 'Maui Jim', 'Melitta', 'Mlily', 'Nestle', 'Nike', 'Snapdragon', 'Standard Chartered', 'TeamViewer', 'Therabody.', 'Therabody_', 'Visit Malta', 'Wasabi']\n"
          ]
        }
      ],
      "source": [
        "category_id_annots=[]\n",
        "for ann in anns['categories']:\n",
        "    category_id_annots.append(ann['name'])\n",
        "print(category_id_annots)"
      ]
    },
    {
      "cell_type": "code",
      "execution_count": null,
      "metadata": {
        "id": "K8s5kmCVdl_W"
      },
      "outputs": [],
      "source": [
        "from pycocotools.coco import COCO"
      ]
    },
    {
      "cell_type": "code",
      "execution_count": null,
      "metadata": {
        "id": "Dq3VkiMkdppj",
        "colab": {
          "base_uri": "https://localhost:8080/"
        },
        "outputId": "ddea4023-eef4-48f4-a69f-5d022ca64803"
      },
      "outputs": [
        {
          "output_type": "stream",
          "name": "stdout",
          "text": [
            "loading annotations into memory...\n",
            "Done (t=0.11s)\n",
            "creating index...\n",
            "index created!\n"
          ]
        },
        {
          "output_type": "execute_result",
          "data": {
            "text/plain": [
              "3552"
            ]
          },
          "metadata": {},
          "execution_count": 300
        }
      ],
      "source": [
        "len(list(sorted(COCO('/content/gdrive/MyDrive/_annotations.coco.json').imgs.keys())))"
      ]
    },
    {
      "cell_type": "code",
      "execution_count": null,
      "metadata": {
        "id": "lxYdtVLZ2WyM"
      },
      "outputs": [],
      "source": [
        "class Annot_Im(data.Dataset):\n",
        "  def __init__(self,im_root,ann_root,transform):\n",
        "    self.im_root=im_root\n",
        "    self.ann_root=ann_root\n",
        "    self.transform=transform\n",
        "    self.ids=len(list(sorted(COCO('/content/gdrive/MyDrive/_annotations.coco.json').imgs.keys())))\n",
        "  def __getitem__(self,index):\n",
        "    image_ids_annotations = defaultdict(list)\n",
        "    file=open(self.ann_root,'r+')\n",
        "    anns=json.loads(file.read())\n",
        "    for ann in anns['annotations']:\n",
        "        image_id = ann['image_id'] # Are integers\n",
        "        image_ids_annotations[image_id].append(ann)\n",
        "    category_id_annots=defaultdict(list)\n",
        "    for ann in anns['categories']:\n",
        "        category_id_annots[ann['id']]=ann['name']\n",
        "    annot_im=anns['images'][index]['file_name']\n",
        "    if annot_im in os.listdir(self.im_root):\n",
        "      img=Image.open(os.path.join('/content/gdrive/MyDrive/train',annot_im))\n",
        "      image_anns = image_ids_annotations[index]\n",
        "      for i in image_anns:\n",
        "          bound=i['bbox']\n",
        "          boxes=[]\n",
        "          categories=[]\n",
        "          areas=[]\n",
        "          iscrowd=[]\n",
        "          category=category_id_annots[i['category_id']]\n",
        "          x=float(bound[0])\n",
        "          y=float(bound[1])\n",
        "          w=x+float(bound[2])\n",
        "          h=y+float(bound[3])\n",
        "          boxes.append([x,y,w,h])\n",
        "          categories.append(i['category_id'])\n",
        "          areas.append(i['area'])\n",
        "          iscrowd.append(i['iscrowd'])\n",
        "      boxes = torch.as_tensor(boxes, dtype=torch.float32)\n",
        "      areas = torch.as_tensor(areas, dtype=torch.float32)\n",
        "        # Iscrowd\n",
        "      iscrowd = torch.zeros((self.ids,), dtype=torch.int64)\n",
        "    else:\n",
        "      return None\n",
        "    annotations={}\n",
        "    annotations[\"boxes\"] = boxes\n",
        "    annotations[\"labels\"] = torch.tensor(categories, dtype=torch.int64)\n",
        "    annotations['areas']=areas\n",
        "    annotations['iscrowd']=iscrowd\n",
        "    if self.transform is not None:\n",
        "      img = self.transform(img)\n",
        "    return img,annotations\n",
        "  def __len__(self):\n",
        "    return self.ids"
      ]
    },
    {
      "cell_type": "code",
      "execution_count": null,
      "metadata": {
        "id": "H9CW0ybDyMTw"
      },
      "outputs": [],
      "source": [
        "import torchvision\n",
        "def get_transform():\n",
        "  custom_transforms = []\n",
        "  custom_transforms.append(torchvision.transforms.ToTensor())\n",
        "  return torchvision.transforms.Compose(custom_transforms)"
      ]
    },
    {
      "cell_type": "code",
      "source": [
        "model=Annot_Im('/content/gdrive/MyDrive/train','/content/gdrive/MyDrive/_annotations.coco.json',transform=get_transform())\n",
        "print(model)"
      ],
      "metadata": {
        "colab": {
          "base_uri": "https://localhost:8080/"
        },
        "id": "SHuSr5XTezBW",
        "outputId": "8495e146-4d70-44e4-f79d-42284cd3f10b"
      },
      "execution_count": null,
      "outputs": [
        {
          "output_type": "stream",
          "name": "stdout",
          "text": [
            "loading annotations into memory...\n",
            "Done (t=0.02s)\n",
            "creating index...\n",
            "index created!\n",
            "<__main__.Annot_Im object at 0x7f4d06a3c250>\n"
          ]
        }
      ]
    },
    {
      "cell_type": "code",
      "execution_count": null,
      "metadata": {
        "id": "22gA6ZzBUHOw",
        "colab": {
          "base_uri": "https://localhost:8080/"
        },
        "outputId": "48e61225-afdb-486b-a666-2979e273b586"
      },
      "outputs": [
        {
          "output_type": "stream",
          "name": "stdout",
          "text": [
            "loading annotations into memory...\n",
            "Done (t=0.02s)\n",
            "creating index...\n",
            "index created!\n"
          ]
        }
      ],
      "source": [
        "my_dataset = Annot_Im('/content/gdrive/MyDrive/train','/content/gdrive/MyDrive/_annotations.coco.json',transform=get_transform())\n",
        "def collate_fn(batch):\n",
        "  return tuple(zip(*batch))\n",
        "train_batch_size=1\n",
        "data_loader = torch.utils.data.DataLoader(my_dataset\n",
        "                                          ,batch_size=train_batch_size,\n",
        "                                          shuffle=True,\n",
        "                                          num_workers=2,\n",
        "                                          collate_fn=collate_fn)"
      ]
    },
    {
      "cell_type": "code",
      "execution_count": null,
      "metadata": {
        "id": "-S37UHEZklsK",
        "colab": {
          "base_uri": "https://localhost:8080/"
        },
        "outputId": "e039b20d-e992-4963-f6c9-4ea68b205b82"
      },
      "outputs": [
        {
          "output_type": "execute_result",
          "data": {
            "text/plain": [
              "True"
            ]
          },
          "metadata": {},
          "execution_count": 305
        }
      ],
      "source": [
        "os.path.exists('/content/gdrive/MyDrive/train/1200px-Nestle_textlogo_blue-svg_png.rf.816ed0e5efa6f30453be2f6cd3b7ff4e.jpg')"
      ]
    },
    {
      "cell_type": "code",
      "execution_count": null,
      "metadata": {
        "id": "MQAuBWHC-N1y",
        "colab": {
          "base_uri": "https://localhost:8080/"
        },
        "outputId": "27e8ddf1-06a0-4896-d684-1acb1ded9f9b"
      },
      "outputs": [
        {
          "output_type": "stream",
          "name": "stdout",
          "text": [
            "torch.Size([3, 640, 640])\n",
            "({'boxes': tensor([[ 64., 379., 240., 489.]]), 'labels': tensor([7]), 'areas': tensor([19360.]), 'iscrowd': tensor([0, 0, 0,  ..., 0, 0, 0])},)\n"
          ]
        }
      ],
      "source": [
        "\n",
        "dataiter=iter(data_loader)\n",
        "data=dataiter.next()\n",
        "features, labels=data\n",
        "print(features[0].shape)\n",
        "print(labels)"
      ]
    },
    {
      "cell_type": "code",
      "execution_count": null,
      "metadata": {
        "id": "wtRiVH_kieok",
        "colab": {
          "base_uri": "https://localhost:8080/"
        },
        "outputId": "46b7aaff-bf76-424f-f14a-85ecba80b01e"
      },
      "outputs": [
        {
          "output_type": "stream",
          "name": "stdout",
          "text": [
            "tensor(20)\n"
          ]
        }
      ],
      "source": [
        "device= torch.device('cuda') if torch.cuda.is_available() else torch.device('cpu')\n",
        "import matplotlib.pyplot as plt\n",
        "import matplotlib.image as mpimg\n",
        "import matplotlib.patches as patch\n",
        "import numpy as np\n",
        "trainloader=iter(data_loader)\n",
        "images,labels1=trainloader.next()\n",
        "images=images[0]\n",
        "images=images.to(device)\n",
        "print(labels1[0]['labels'][0])\n",
        "def coord(i=0):\n",
        "  return labels1[0]['boxes'][0][i]"
      ]
    },
    {
      "cell_type": "code",
      "execution_count": null,
      "metadata": {
        "colab": {
          "base_uri": "https://localhost:8080/",
          "height": 248
        },
        "id": "7F0IKWzJmklW",
        "outputId": "863fb006-0088-49e6-8235-270d95587c93"
      },
      "outputs": [
        {
          "output_type": "display_data",
          "data": {
            "text/plain": [
              "<Figure size 432x288 with 1 Axes>"
            ],
            "image/png": "[encoded data removed]"
          },
          "metadata": {
            "needs_background": "light"
          }
        }
      ],
      "source": [
        "def Image_disp(image):  \n",
        "  fig,ax=plt.subplots()\n",
        "  plt.text(coord(0)+1, coord(1)-5, labels1[0]['labels'][0],fontdict={'fontsize':18.0, 'fontweight':'medium','color': 'white', 'backgroundcolor':'red'})\n",
        "  bb = patch.Rectangle((coord(0), coord(1)), coord(2)-coord(0), coord(3)-coord(1), linewidth=2, edgecolor='red', facecolor='none')\n",
        "  ax.add_patch(bb)\n",
        "  ax.axis('off')\n",
        "  ax.imshow(image.permute(1,2,0))\n",
        "  plt.show()\n",
        "Image_disp(images.to('cpu'))"
      ]
    },
    {
      "cell_type": "code",
      "source": [
        "from torchvision.models.detection.faster_rcnn import FastRCNNPredictor\n",
        "\n",
        "def get_model_instance_segmentation(num_classes):\n",
        "    model = torchvision.models.detection.fasterrcnn_resnet50_fpn(pretrained=True)\n",
        "    in_features = model.roi_heads.box_predictor.cls_score.in_features\n",
        "    model.roi_heads.box_predictor = FastRCNNPredictor(in_features, num_classes)\n",
        "\n",
        "    return model\n",
        "\n",
        "num_classes = 31\n",
        "num_epochs = 10\n",
        "model = get_model_instance_segmentation(num_classes)\n",
        "\n",
        "model.to(device)\n",
        "\n",
        "params = [p for p in model.parameters() if p.requires_grad]\n",
        "optimizer = torch.optim.SGD(params, lr=0.005, momentum=0.9, weight_decay=0.0005)\n",
        "\n",
        "len_dataloader = len(data_loader)\n",
        "\n",
        "for epoch in range(num_epochs):\n",
        "    model.train()\n",
        "    i = 0    \n",
        "    for imgs, annotations in data_loader:\n",
        "        i += 1\n",
        "        imgs = list(img.to(device) for img in imgs)\n",
        "        annotations = [{k: v for k, v in t.items()} for t in annotations]\n",
        "        loss_dict = model(imgs, annotations)\n",
        "        losses = sum(loss for loss in loss_dict.values())\n",
        "\n",
        "        optimizer.zero_grad()\n",
        "        losses.backward()\n",
        "        optimizer.step()\n",
        "\n",
        "        print(f'Iteration: {i}/{len_dataloader}, Loss: {losses}')"
      ],
      "metadata": {
        "id": "p4oWTMfivOEr"
      },
      "execution_count": null,
      "outputs": []
    },
    {
      "cell_type": "code",
      "source": [
        "torch.save(model,'/content/gdrive/MyDrive/new_model')"
      ],
      "metadata": {
        "id": "oWrfQ2JTq08V"
      },
      "execution_count": null,
      "outputs": []
    },
    {
      "cell_type": "code",
      "source": [
        "torch.load('/content/gdrive/MyDrive/new_model'')\n",
        "torch.eval()"
      ],
      "metadata": {
        "id": "solzscm8r0Xn"
      },
      "execution_count": null,
      "outputs": []
    }
  ],
  "metadata": {
    "colab": {
      "collapsed_sections": [],
      "provenance": []
    },
    "kernelspec": {
      "display_name": "Python 3",
      "name": "python3"
    },
    "language_info": {
      "name": "python"
    },
    "accelerator": "GPU"
  },
  "nbformat": 4,
  "nbformat_minor": 0
}