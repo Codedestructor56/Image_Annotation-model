{
  "cells": [
    {
      "cell_type": "markdown",
      "metadata": {
        "id": "view-in-github",
        "colab_type": "text"
      },
      "source": [
        "<a href=\"https://colab.research.google.com/github/Codedestructor56/Image_Annotation-model/blob/main/Image_detection%20using%20YOLO.ipynb\" target=\"_parent\"><img src=\"https://colab.research.google.com/assets/colab-badge.svg\" alt=\"Open In Colab\"/></a>"
      ]
    },
    {
      "cell_type": "code",
      "execution_count": 67,
      "metadata": {
        "id": "hkmErhckNbZP"
      },
      "outputs": [],
      "source": [
        "import torch\n",
        "import os\n",
        "from torch.utils import data\n",
        "from PIL import Image\n",
        "from torchvision import transforms\n",
        "from collections import defaultdict\n",
        "import json\n",
        "import numpy as np"
      ]
    },
    {
      "cell_type": "code",
      "execution_count": 68,
      "metadata": {
        "colab": {
          "base_uri": "https://localhost:8080/"
        },
        "id": "4soPtcfigvco",
        "outputId": "eaeb7bd6-e6a6-4805-ac7a-5a528c4d2920"
      },
      "outputs": [
        {
          "output_type": "stream",
          "name": "stdout",
          "text": [
            "Mounted at /content/gdrive\n"
          ]
        }
      ],
      "source": [
        "from google.colab import drive\n",
        "drive.mount('/content/gdrive',force_remount=True)"
      ]
    },
    {
      "cell_type": "code",
      "execution_count": 69,
      "metadata": {
        "id": "5U0G_e4pcqdn"
      },
      "outputs": [],
      "source": [
        "train_ims=os.listdir('/content/gdrive/MyDrive/train')"
      ]
    },
    {
      "cell_type": "code",
      "execution_count": 70,
      "metadata": {
        "id": "4UzVIOekekx_",
        "colab": {
          "base_uri": "https://localhost:8080/"
        },
        "outputId": "68958954-7581-4131-972c-ede258f0dce1"
      },
      "outputs": [
        {
          "output_type": "execute_result",
          "data": {
            "text/plain": [
              "True"
            ]
          },
          "metadata": {},
          "execution_count": 70
        }
      ],
      "source": [
        "os.path.exists('/content/gdrive/MyDrive/_annotations.coco.json')"
      ]
    },
    {
      "cell_type": "code",
      "execution_count": 71,
      "metadata": {
        "id": "N5hb0OftfkkO",
        "colab": {
          "base_uri": "https://localhost:8080/"
        },
        "outputId": "b7b7309a-c3ca-4ce2-bf67-9c9319542584"
      },
      "outputs": [
        {
          "output_type": "stream",
          "name": "stdout",
          "text": [
            "5\n"
          ]
        }
      ],
      "source": [
        "f=open('/content/gdrive/MyDrive/_annotations.coco.json')\n",
        "print(len(json.loads(f.read())))"
      ]
    },
    {
      "cell_type": "code",
      "execution_count": 72,
      "metadata": {
        "id": "4TIs3XMOkLI7",
        "colab": {
          "base_uri": "https://localhost:8080/"
        },
        "outputId": "fee754cf-2fdf-4f0d-d4be-f46861438882"
      },
      "outputs": [
        {
          "output_type": "stream",
          "name": "stdout",
          "text": [
            "[{'id': 205, 'image_id': 165, 'category_id': 30, 'bbox': [95, 14, 34, 44], 'area': 1496, 'segmentation': [], 'iscrowd': 0}, {'id': 206, 'image_id': 165, 'category_id': 30, 'bbox': [488, 88, 30, 43], 'area': 1290, 'segmentation': [], 'iscrowd': 0}, {'id': 207, 'image_id': 165, 'category_id': 30, 'bbox': [70, 482, 86, 105], 'area': 9030, 'segmentation': [], 'iscrowd': 0}]\n"
          ]
        }
      ],
      "source": [
        "import json\n",
        "from collections import defaultdict\n",
        "image_ids_annotations = defaultdict(list)\n",
        "file=open('/content/gdrive/MyDrive/_annotations.coco.json','r+')\n",
        "anns=json.loads(file.read())\n",
        "for ann in anns['annotations']:\n",
        "    image_id = ann['image_id'] # Are integers\n",
        "    image_ids_annotations[image_id].append(ann)\n",
        "print(image_ids_annotations[165])"
      ]
    },
    {
      "cell_type": "code",
      "execution_count": 73,
      "metadata": {
        "id": "90FLp7HWpGkT",
        "colab": {
          "base_uri": "https://localhost:8080/"
        },
        "outputId": "99c7c609-19a4-421c-e81c-eb9304e47019"
      },
      "outputs": [
        {
          "output_type": "stream",
          "name": "stdout",
          "text": [
            "31\n"
          ]
        }
      ],
      "source": [
        "category_id_annots=defaultdict(list)\n",
        "for ann in anns['categories']:\n",
        "    category_id_annots[ann['id']]=ann['name']\n",
        "print(len(category_id_annots))"
      ]
    },
    {
      "cell_type": "code",
      "execution_count": 74,
      "metadata": {
        "id": "K8s5kmCVdl_W"
      },
      "outputs": [],
      "source": [
        "from pycocotools.coco import COCO"
      ]
    },
    {
      "cell_type": "code",
      "execution_count": 75,
      "metadata": {
        "id": "Dq3VkiMkdppj",
        "colab": {
          "base_uri": "https://localhost:8080/"
        },
        "outputId": "2fb79a67-cba2-4d10-b3a1-ec9fc37f5770"
      },
      "outputs": [
        {
          "output_type": "stream",
          "name": "stdout",
          "text": [
            "loading annotations into memory...\n",
            "Done (t=0.05s)\n",
            "creating index...\n",
            "index created!\n"
          ]
        },
        {
          "output_type": "execute_result",
          "data": {
            "text/plain": [
              "3552"
            ]
          },
          "metadata": {},
          "execution_count": 75
        }
      ],
      "source": [
        "len(list(sorted(COCO('/content/gdrive/MyDrive/_annotations.coco.json').imgs.keys())))"
      ]
    },
    {
      "cell_type": "code",
      "execution_count": 76,
      "metadata": {
        "id": "lxYdtVLZ2WyM"
      },
      "outputs": [],
      "source": [
        "class Annot_Im(data.Dataset):\n",
        "  def __init__(self,im_root,ann_root,transform):\n",
        "    self.im_root=im_root\n",
        "    self.ann_root=ann_root\n",
        "    self.transform=transform\n",
        "    self.ids=len(list(sorted(COCO('/content/gdrive/MyDrive/_annotations.coco.json').imgs.keys())))\n",
        "  def __getitem__(self,index):\n",
        "    image_ids_annotations = defaultdict(list)\n",
        "    file=open(self.ann_root,'r+')\n",
        "    anns=json.loads(file.read())\n",
        "    for ann in anns['annotations']:\n",
        "        image_id = ann['image_id'] # Are integers\n",
        "        image_ids_annotations[image_id].append(ann)\n",
        "    category_id_annots=defaultdict(list)\n",
        "    for ann in anns['categories']:\n",
        "        category_id_annots[ann['id']]=ann['name']\n",
        "    annot_im=anns['images'][index]['file_name']\n",
        "    if annot_im in os.listdir(self.im_root):\n",
        "      img=Image.open(os.path.join('/content/gdrive/MyDrive/train',annot_im))\n",
        "      image_anns = image_ids_annotations[index]\n",
        "      for i in image_anns:\n",
        "          bound=i['bbox']\n",
        "          boxes=[]\n",
        "          categories=[]\n",
        "          category=category_id_annots[i['category_id']]\n",
        "          x=float(bound[0])\n",
        "          y=float(bound[1])\n",
        "          w=float(bound[2])\n",
        "          h=float(bound[3])\n",
        "          boxes.append([x,y,w,h])\n",
        "          categories.append(category)\n",
        "      boxes = torch.as_tensor(boxes, dtype=torch.float32)\n",
        "    else:\n",
        "      return None\n",
        "    annotations={}\n",
        "    annotations[\"boxes\"] = boxes\n",
        "    annotations[\"categories\"] = categories\n",
        "    annotations[\"image_id\"] = image_id\n",
        "    if self.transform is not None:\n",
        "      img = self.transform(img)\n",
        "    return img,annotations\n",
        "  def __len__(self):\n",
        "    return self.ids"
      ]
    },
    {
      "cell_type": "code",
      "execution_count": 77,
      "metadata": {
        "id": "H9CW0ybDyMTw"
      },
      "outputs": [],
      "source": [
        "import torchvision\n",
        "def get_transform():\n",
        "  custom_transforms = []\n",
        "  custom_transforms.append(torchvision.transforms.ToTensor())\n",
        "  return torchvision.transforms.Compose(custom_transforms)"
      ]
    },
    {
      "cell_type": "code",
      "execution_count": 78,
      "metadata": {
        "id": "22gA6ZzBUHOw",
        "colab": {
          "base_uri": "https://localhost:8080/"
        },
        "outputId": "05591f87-27ed-48cc-da48-d76a721c84d1"
      },
      "outputs": [
        {
          "output_type": "stream",
          "name": "stdout",
          "text": [
            "loading annotations into memory...\n",
            "Done (t=0.03s)\n",
            "creating index...\n",
            "index created!\n"
          ]
        }
      ],
      "source": [
        "my_dataset = Annot_Im('/content/gdrive/MyDrive/train','/content/gdrive/MyDrive/_annotations.coco.json',transform=get_transform())\n",
        "def collate_fn(batch):\n",
        "  return tuple(zip(*batch))\n",
        "train_batch_size=1\n",
        "data_loader = torch.utils.data.DataLoader(my_dataset\n",
        "                                          ,batch_size=train_batch_size,\n",
        "                                          shuffle=True,\n",
        "                                          num_workers=2,\n",
        "                                          collate_fn=collate_fn)"
      ]
    },
    {
      "cell_type": "code",
      "execution_count": 79,
      "metadata": {
        "id": "-S37UHEZklsK",
        "colab": {
          "base_uri": "https://localhost:8080/"
        },
        "outputId": "f48e20d3-7ca5-4da5-b01a-7ef43dd6d237"
      },
      "outputs": [
        {
          "output_type": "execute_result",
          "data": {
            "text/plain": [
              "True"
            ]
          },
          "metadata": {},
          "execution_count": 79
        }
      ],
      "source": [
        "os.path.exists('/content/gdrive/MyDrive/train/1200px-Nestle_textlogo_blue-svg_png.rf.816ed0e5efa6f30453be2f6cd3b7ff4e.jpg')"
      ]
    },
    {
      "cell_type": "code",
      "execution_count": 80,
      "metadata": {
        "id": "MQAuBWHC-N1y",
        "colab": {
          "base_uri": "https://localhost:8080/"
        },
        "outputId": "f77e2e91-0222-4c9e-bc1a-1f5e68b7ac5e"
      },
      "outputs": [
        {
          "output_type": "stream",
          "name": "stdout",
          "text": [
            "torch.Size([3, 640, 640])\n"
          ]
        }
      ],
      "source": [
        "\n",
        "dataiter=iter(data_loader)\n",
        "data=dataiter.next()\n",
        "features, labels=data\n",
        "print(features[0].shape)"
      ]
    },
    {
      "cell_type": "code",
      "execution_count": 81,
      "metadata": {
        "id": "wtRiVH_kieok",
        "colab": {
          "base_uri": "https://localhost:8080/"
        },
        "outputId": "bcab4f1c-cde0-4501-90ed-5d0762fc3a5f"
      },
      "outputs": [
        {
          "output_type": "stream",
          "name": "stdout",
          "text": [
            "Kohler\n"
          ]
        }
      ],
      "source": [
        "device= torch.device('cuda') if torch.cuda.is_available() else torch.device('cpu')\n",
        "import matplotlib.pyplot as plt\n",
        "import matplotlib.image as mpimg\n",
        "import matplotlib.patches as patch\n",
        "import numpy as np\n",
        "trainloader=iter(data_loader)\n",
        "images,labels1=trainloader.next()\n",
        "images=images[0]\n",
        "images=images.to(device)\n",
        "print(labels1[0]['categories'][0])\n",
        "def coord(i=0):\n",
        "  return labels1[0]['boxes'][0][i]"
      ]
    },
    {
      "cell_type": "code",
      "execution_count": 82,
      "metadata": {
        "colab": {
          "base_uri": "https://localhost:8080/",
          "height": 248
        },
        "id": "7F0IKWzJmklW",
        "outputId": "b70a14bb-2e6f-441d-d8f1-837ea2e7ca72"
      },
      "outputs": [
        {
          "output_type": "display_data",
          "data": {
            "text/plain": [
              "<Figure size 432x288 with 1 Axes>"
            ],
            "image/png": "[encoded data removed]"
          },
          "metadata": {
            "needs_background": "light"
          }
        }
      ],
      "source": [
        "def Image_disp(image):  \n",
        "  fig,ax=plt.subplots()\n",
        "  plt.text(coord(0)+1, coord(1)-5, labels1[0]['categories'][0],fontdict={'fontsize':18.0, 'fontweight':'medium','color': 'white', 'backgroundcolor':'red'})\n",
        "  bb = patch.Rectangle((coord(0), coord(1)), coord(2), coord(3), linewidth=2, edgecolor='red', facecolor='none')\n",
        "  ax.add_patch(bb)\n",
        "  ax.axis('off')\n",
        "  ax.imshow(image.permute(1,2,0))\n",
        "  plt.show()\n",
        "Image_disp(images)"
      ]
    },
    {
      "cell_type": "code",
      "source": [
        "config = [\n",
        "    (32, 3, 1),\n",
        "    (64, 3, 2),\n",
        "    [\"B\", 1],\n",
        "    (128, 3, 2),\n",
        "    [\"B\", 2],\n",
        "    (256, 3, 2),\n",
        "    [\"B\", 8],\n",
        "    (512, 3, 2),\n",
        "    [\"B\", 8],\n",
        "    (1024, 3, 2),\n",
        "    [\"B\", 4],  # To this point is Darknet-53\n",
        "    (512, 1, 1),\n",
        "    (1024, 3, 1),\n",
        "    \"S\",\n",
        "    (256, 1, 1),\n",
        "    \"U\",\n",
        "    (256, 1, 1),\n",
        "    (512, 3, 1),\n",
        "    \"S\",\n",
        "    (128, 1, 1),\n",
        "    \"U\",\n",
        "    (128, 1, 1),\n",
        "    (256, 3, 1),\n",
        "    \"S\",]\n",
        "import torch.nn as nn\n",
        "class CNN(nn.Module):\n",
        "  def __init__(self,in_ch,out_ch,batch_norm=True, **kwargs):\n",
        "    super().__init__()\n",
        "    self.conv_layer=nn.Conv2d(in_ch,out_ch,bias=not batch_norm, **kwargs)\n",
        "    self.batch_norm=nn.BatchNorm2d(out_ch)\n",
        "    self.activation=nn.LeakyReLU(0.1)\n",
        "  def forward(self,im):\n",
        "    return self.activation(self.batch_norm(self.conv_layer(im))) if self.batch_norm else self.activation(self.conv_layer(im))\n",
        "class Resnets(nn.Module):\n",
        "  def __init__(self,in_ch,repeats=1,use=True):\n",
        "    super().__init__()\n",
        "    self.res_layer=nn.ModuleList()\n",
        "    self.use=use\n",
        "    self.repeats=repeats\n",
        "    for i in range(repeats):\n",
        "      self.res_layer+=[nn.Sequential(CNN(in_ch, in_ch // 2, kernel_size=1),\n",
        "                    CNN(in_ch// 2, in_ch, kernel_size=3, padding=1))]\n",
        "  def forward(self,im):\n",
        "    for i in self.res_layer:\n",
        "      im=im+i(im) if self.use else i(im)\n",
        "    return im\n",
        "class Preds(nn.Module):\n",
        "  def __init__(self, in_ch, labels):\n",
        "    super().__init__()\n",
        "    self.pred_layers=nn.Sequential(\n",
        "            CNN(in_ch, 2 * in_ch, kernel_size=3, padding=1),\n",
        "            CNN(2 * in_ch, (num_classes + 5) * 3, batch_norm=False, kernel_size=1))\n",
        "    self.num_labels=labels\n",
        "  def forward(self,im):\n",
        "    reshaped_sample=self.pred_layers(im).reshape(im.shape[0],3,self.num_labels+5,im.shape[2],im.shape[3])\n",
        "    sample=reshaped_sample.permute(0,1,3,4,2)\n",
        "    return sample\n",
        "class Comb_Model(nn.Module):\n",
        "    def __init__(self, in_channels=3, num_classes=80):\n",
        "        super().__init__()\n",
        "        self.num_classes = num_classes\n",
        "        self.in_channels = in_channels\n",
        "        self.layers = self._create_conv_layers()\n",
        "\n",
        "    def forward(self, x):\n",
        "        outputs = []  # for each scale\n",
        "        route_connections = []\n",
        "        for layer in self.layers:\n",
        "            if isinstance(layer, Preds):\n",
        "                outputs.append(layer(x))\n",
        "                continue\n",
        "            x = layer(x)\n",
        "\n",
        "            if isinstance(layer, Resnets) and layer.repeats == 8:\n",
        "                route_connections.append(x)\n",
        "\n",
        "            elif isinstance(layer, nn.Upsample):\n",
        "                x = torch.cat([x, route_connections[-1]], dim=1)\n",
        "                route_connections.pop()\n",
        "\n",
        "        return outputs\n",
        "\n",
        "    def _create_conv_layers(self):\n",
        "        layers = nn.ModuleList()\n",
        "        in_channels = self.in_channels\n",
        "\n",
        "        for module in config:\n",
        "            if isinstance(module, tuple):\n",
        "                out_channels, kernel_size, stride = module\n",
        "                layers.append(\n",
        "                    CNN(\n",
        "                        in_channels,\n",
        "                        out_channels,\n",
        "                        kernel_size=kernel_size,\n",
        "                        stride=stride,\n",
        "                        padding=1 if kernel_size == 3 else 0,\n",
        "                    )\n",
        "                )\n",
        "                in_channels = out_channels\n",
        "\n",
        "            elif isinstance(module, list):\n",
        "                num_repeats = module[1]\n",
        "                layers.append(Resnets(in_channels, repeats=num_repeats,))\n",
        "\n",
        "            elif isinstance(module, str):\n",
        "                if module == \"S\":\n",
        "                    layers += [\n",
        "                        Resnets(in_channels, use=False, repeats=1),\n",
        "                        CNN(in_channels, in_channels // 2, kernel_size=1),\n",
        "                        Preds(in_channels // 2, labels=self.num_classes),\n",
        "                    ]\n",
        "                    in_channels = in_channels // 2\n",
        "\n",
        "                elif module == \"U\":\n",
        "                    layers.append(nn.Upsample(scale_factor=2),)\n",
        "                    in_channels = in_channels * 3\n",
        "\n",
        "        return layers\n",
        "\n",
        "\n",
        "\n",
        "num_classes = 30\n",
        "IMAGE_SIZE = 640\n",
        "model = Comb_Model(num_classes=num_classes)\n",
        "print(model._create_conv_layers())\n",
        "x = torch.randn((2, 3, IMAGE_SIZE, IMAGE_SIZE))\n",
        "out = model(x)\n",
        "assert model(x)[0].shape == (2, 3, IMAGE_SIZE//32, IMAGE_SIZE//32, num_classes + 5)\n",
        "assert model(x)[1].shape == (2, 3, IMAGE_SIZE//16, IMAGE_SIZE//16, num_classes + 5)\n",
        "assert model(x)[2].shape == (2, 3, IMAGE_SIZE//8, IMAGE_SIZE//8, num_classes + 5)\n",
        "print(\"Success!\")"
      ],
      "metadata": {
        "colab": {
          "base_uri": "https://localhost:8080/"
        },
        "id": "kbRTClqC-0Kb",
        "outputId": "b90062cd-fead-473e-ffe5-fe628bdd44b2"
      },
      "execution_count": 83,
      "outputs": [
        {
          "output_type": "stream",
          "name": "stdout",
          "text": [
            "ModuleList(\n",
            "  (0): CNN(\n",
            "    (conv_layer): Conv2d(3, 32, kernel_size=(3, 3), stride=(1, 1), padding=(1, 1), bias=False)\n",
            "    (batch_norm): BatchNorm2d(32, eps=1e-05, momentum=0.1, affine=True, track_running_stats=True)\n",
            "    (activation): LeakyReLU(negative_slope=0.1)\n",
            "  )\n",
            "  (1): CNN(\n",
            "    (conv_layer): Conv2d(32, 64, kernel_size=(3, 3), stride=(2, 2), padding=(1, 1), bias=False)\n",
            "    (batch_norm): BatchNorm2d(64, eps=1e-05, momentum=0.1, affine=True, track_running_stats=True)\n",
            "    (activation): LeakyReLU(negative_slope=0.1)\n",
            "  )\n",
            "  (2): Resnets(\n",
            "    (res_layer): ModuleList(\n",
            "      (0): Sequential(\n",
            "        (0): CNN(\n",
            "          (conv_layer): Conv2d(64, 32, kernel_size=(1, 1), stride=(1, 1), bias=False)\n",
            "          (batch_norm): BatchNorm2d(32, eps=1e-05, momentum=0.1, affine=True, track_running_stats=True)\n",
            "          (activation): LeakyReLU(negative_slope=0.1)\n",
            "        )\n",
            "        (1): CNN(\n",
            "          (conv_layer): Conv2d(32, 64, kernel_size=(3, 3), stride=(1, 1), padding=(1, 1), bias=False)\n",
            "          (batch_norm): BatchNorm2d(64, eps=1e-05, momentum=0.1, affine=True, track_running_stats=True)\n",
            "          (activation): LeakyReLU(negative_slope=0.1)\n",
            "        )\n",
            "      )\n",
            "    )\n",
            "  )\n",
            "  (3): CNN(\n",
            "    (conv_layer): Conv2d(64, 128, kernel_size=(3, 3), stride=(2, 2), padding=(1, 1), bias=False)\n",
            "    (batch_norm): BatchNorm2d(128, eps=1e-05, momentum=0.1, affine=True, track_running_stats=True)\n",
            "    (activation): LeakyReLU(negative_slope=0.1)\n",
            "  )\n",
            "  (4): Resnets(\n",
            "    (res_layer): ModuleList(\n",
            "      (0): Sequential(\n",
            "        (0): CNN(\n",
            "          (conv_layer): Conv2d(128, 64, kernel_size=(1, 1), stride=(1, 1), bias=False)\n",
            "          (batch_norm): BatchNorm2d(64, eps=1e-05, momentum=0.1, affine=True, track_running_stats=True)\n",
            "          (activation): LeakyReLU(negative_slope=0.1)\n",
            "        )\n",
            "        (1): CNN(\n",
            "          (conv_layer): Conv2d(64, 128, kernel_size=(3, 3), stride=(1, 1), padding=(1, 1), bias=False)\n",
            "          (batch_norm): BatchNorm2d(128, eps=1e-05, momentum=0.1, affine=True, track_running_stats=True)\n",
            "          (activation): LeakyReLU(negative_slope=0.1)\n",
            "        )\n",
            "      )\n",
            "      (1): Sequential(\n",
            "        (0): CNN(\n",
            "          (conv_layer): Conv2d(128, 64, kernel_size=(1, 1), stride=(1, 1), bias=False)\n",
            "          (batch_norm): BatchNorm2d(64, eps=1e-05, momentum=0.1, affine=True, track_running_stats=True)\n",
            "          (activation): LeakyReLU(negative_slope=0.1)\n",
            "        )\n",
            "        (1): CNN(\n",
            "          (conv_layer): Conv2d(64, 128, kernel_size=(3, 3), stride=(1, 1), padding=(1, 1), bias=False)\n",
            "          (batch_norm): BatchNorm2d(128, eps=1e-05, momentum=0.1, affine=True, track_running_stats=True)\n",
            "          (activation): LeakyReLU(negative_slope=0.1)\n",
            "        )\n",
            "      )\n",
            "    )\n",
            "  )\n",
            "  (5): CNN(\n",
            "    (conv_layer): Conv2d(128, 256, kernel_size=(3, 3), stride=(2, 2), padding=(1, 1), bias=False)\n",
            "    (batch_norm): BatchNorm2d(256, eps=1e-05, momentum=0.1, affine=True, track_running_stats=True)\n",
            "    (activation): LeakyReLU(negative_slope=0.1)\n",
            "  )\n",
            "  (6): Resnets(\n",
            "    (res_layer): ModuleList(\n",
            "      (0): Sequential(\n",
            "        (0): CNN(\n",
            "          (conv_layer): Conv2d(256, 128, kernel_size=(1, 1), stride=(1, 1), bias=False)\n",
            "          (batch_norm): BatchNorm2d(128, eps=1e-05, momentum=0.1, affine=True, track_running_stats=True)\n",
            "          (activation): LeakyReLU(negative_slope=0.1)\n",
            "        )\n",
            "        (1): CNN(\n",
            "          (conv_layer): Conv2d(128, 256, kernel_size=(3, 3), stride=(1, 1), padding=(1, 1), bias=False)\n",
            "          (batch_norm): BatchNorm2d(256, eps=1e-05, momentum=0.1, affine=True, track_running_stats=True)\n",
            "          (activation): LeakyReLU(negative_slope=0.1)\n",
            "        )\n",
            "      )\n",
            "      (1): Sequential(\n",
            "        (0): CNN(\n",
            "          (conv_layer): Conv2d(256, 128, kernel_size=(1, 1), stride=(1, 1), bias=False)\n",
            "          (batch_norm): BatchNorm2d(128, eps=1e-05, momentum=0.1, affine=True, track_running_stats=True)\n",
            "          (activation): LeakyReLU(negative_slope=0.1)\n",
            "        )\n",
            "        (1): CNN(\n",
            "          (conv_layer): Conv2d(128, 256, kernel_size=(3, 3), stride=(1, 1), padding=(1, 1), bias=False)\n",
            "          (batch_norm): BatchNorm2d(256, eps=1e-05, momentum=0.1, affine=True, track_running_stats=True)\n",
            "          (activation): LeakyReLU(negative_slope=0.1)\n",
            "        )\n",
            "      )\n",
            "      (2): Sequential(\n",
            "        (0): CNN(\n",
            "          (conv_layer): Conv2d(256, 128, kernel_size=(1, 1), stride=(1, 1), bias=False)\n",
            "          (batch_norm): BatchNorm2d(128, eps=1e-05, momentum=0.1, affine=True, track_running_stats=True)\n",
            "          (activation): LeakyReLU(negative_slope=0.1)\n",
            "        )\n",
            "        (1): CNN(\n",
            "          (conv_layer): Conv2d(128, 256, kernel_size=(3, 3), stride=(1, 1), padding=(1, 1), bias=False)\n",
            "          (batch_norm): BatchNorm2d(256, eps=1e-05, momentum=0.1, affine=True, track_running_stats=True)\n",
            "          (activation): LeakyReLU(negative_slope=0.1)\n",
            "        )\n",
            "      )\n",
            "      (3): Sequential(\n",
            "        (0): CNN(\n",
            "          (conv_layer): Conv2d(256, 128, kernel_size=(1, 1), stride=(1, 1), bias=False)\n",
            "          (batch_norm): BatchNorm2d(128, eps=1e-05, momentum=0.1, affine=True, track_running_stats=True)\n",
            "          (activation): LeakyReLU(negative_slope=0.1)\n",
            "        )\n",
            "        (1): CNN(\n",
            "          (conv_layer): Conv2d(128, 256, kernel_size=(3, 3), stride=(1, 1), padding=(1, 1), bias=False)\n",
            "          (batch_norm): BatchNorm2d(256, eps=1e-05, momentum=0.1, affine=True, track_running_stats=True)\n",
            "          (activation): LeakyReLU(negative_slope=0.1)\n",
            "        )\n",
            "      )\n",
            "      (4): Sequential(\n",
            "        (0): CNN(\n",
            "          (conv_layer): Conv2d(256, 128, kernel_size=(1, 1), stride=(1, 1), bias=False)\n",
            "          (batch_norm): BatchNorm2d(128, eps=1e-05, momentum=0.1, affine=True, track_running_stats=True)\n",
            "          (activation): LeakyReLU(negative_slope=0.1)\n",
            "        )\n",
            "        (1): CNN(\n",
            "          (conv_layer): Conv2d(128, 256, kernel_size=(3, 3), stride=(1, 1), padding=(1, 1), bias=False)\n",
            "          (batch_norm): BatchNorm2d(256, eps=1e-05, momentum=0.1, affine=True, track_running_stats=True)\n",
            "          (activation): LeakyReLU(negative_slope=0.1)\n",
            "        )\n",
            "      )\n",
            "      (5): Sequential(\n",
            "        (0): CNN(\n",
            "          (conv_layer): Conv2d(256, 128, kernel_size=(1, 1), stride=(1, 1), bias=False)\n",
            "          (batch_norm): BatchNorm2d(128, eps=1e-05, momentum=0.1, affine=True, track_running_stats=True)\n",
            "          (activation): LeakyReLU(negative_slope=0.1)\n",
            "        )\n",
            "        (1): CNN(\n",
            "          (conv_layer): Conv2d(128, 256, kernel_size=(3, 3), stride=(1, 1), padding=(1, 1), bias=False)\n",
            "          (batch_norm): BatchNorm2d(256, eps=1e-05, momentum=0.1, affine=True, track_running_stats=True)\n",
            "          (activation): LeakyReLU(negative_slope=0.1)\n",
            "        )\n",
            "      )\n",
            "      (6): Sequential(\n",
            "        (0): CNN(\n",
            "          (conv_layer): Conv2d(256, 128, kernel_size=(1, 1), stride=(1, 1), bias=False)\n",
            "          (batch_norm): BatchNorm2d(128, eps=1e-05, momentum=0.1, affine=True, track_running_stats=True)\n",
            "          (activation): LeakyReLU(negative_slope=0.1)\n",
            "        )\n",
            "        (1): CNN(\n",
            "          (conv_layer): Conv2d(128, 256, kernel_size=(3, 3), stride=(1, 1), padding=(1, 1), bias=False)\n",
            "          (batch_norm): BatchNorm2d(256, eps=1e-05, momentum=0.1, affine=True, track_running_stats=True)\n",
            "          (activation): LeakyReLU(negative_slope=0.1)\n",
            "        )\n",
            "      )\n",
            "      (7): Sequential(\n",
            "        (0): CNN(\n",
            "          (conv_layer): Conv2d(256, 128, kernel_size=(1, 1), stride=(1, 1), bias=False)\n",
            "          (batch_norm): BatchNorm2d(128, eps=1e-05, momentum=0.1, affine=True, track_running_stats=True)\n",
            "          (activation): LeakyReLU(negative_slope=0.1)\n",
            "        )\n",
            "        (1): CNN(\n",
            "          (conv_layer): Conv2d(128, 256, kernel_size=(3, 3), stride=(1, 1), padding=(1, 1), bias=False)\n",
            "          (batch_norm): BatchNorm2d(256, eps=1e-05, momentum=0.1, affine=True, track_running_stats=True)\n",
            "          (activation): LeakyReLU(negative_slope=0.1)\n",
            "        )\n",
            "      )\n",
            "    )\n",
            "  )\n",
            "  (7): CNN(\n",
            "    (conv_layer): Conv2d(256, 512, kernel_size=(3, 3), stride=(2, 2), padding=(1, 1), bias=False)\n",
            "    (batch_norm): BatchNorm2d(512, eps=1e-05, momentum=0.1, affine=True, track_running_stats=True)\n",
            "    (activation): LeakyReLU(negative_slope=0.1)\n",
            "  )\n",
            "  (8): Resnets(\n",
            "    (res_layer): ModuleList(\n",
            "      (0): Sequential(\n",
            "        (0): CNN(\n",
            "          (conv_layer): Conv2d(512, 256, kernel_size=(1, 1), stride=(1, 1), bias=False)\n",
            "          (batch_norm): BatchNorm2d(256, eps=1e-05, momentum=0.1, affine=True, track_running_stats=True)\n",
            "          (activation): LeakyReLU(negative_slope=0.1)\n",
            "        )\n",
            "        (1): CNN(\n",
            "          (conv_layer): Conv2d(256, 512, kernel_size=(3, 3), stride=(1, 1), padding=(1, 1), bias=False)\n",
            "          (batch_norm): BatchNorm2d(512, eps=1e-05, momentum=0.1, affine=True, track_running_stats=True)\n",
            "          (activation): LeakyReLU(negative_slope=0.1)\n",
            "        )\n",
            "      )\n",
            "      (1): Sequential(\n",
            "        (0): CNN(\n",
            "          (conv_layer): Conv2d(512, 256, kernel_size=(1, 1), stride=(1, 1), bias=False)\n",
            "          (batch_norm): BatchNorm2d(256, eps=1e-05, momentum=0.1, affine=True, track_running_stats=True)\n",
            "          (activation): LeakyReLU(negative_slope=0.1)\n",
            "        )\n",
            "        (1): CNN(\n",
            "          (conv_layer): Conv2d(256, 512, kernel_size=(3, 3), stride=(1, 1), padding=(1, 1), bias=False)\n",
            "          (batch_norm): BatchNorm2d(512, eps=1e-05, momentum=0.1, affine=True, track_running_stats=True)\n",
            "          (activation): LeakyReLU(negative_slope=0.1)\n",
            "        )\n",
            "      )\n",
            "      (2): Sequential(\n",
            "        (0): CNN(\n",
            "          (conv_layer): Conv2d(512, 256, kernel_size=(1, 1), stride=(1, 1), bias=False)\n",
            "          (batch_norm): BatchNorm2d(256, eps=1e-05, momentum=0.1, affine=True, track_running_stats=True)\n",
            "          (activation): LeakyReLU(negative_slope=0.1)\n",
            "        )\n",
            "        (1): CNN(\n",
            "          (conv_layer): Conv2d(256, 512, kernel_size=(3, 3), stride=(1, 1), padding=(1, 1), bias=False)\n",
            "          (batch_norm): BatchNorm2d(512, eps=1e-05, momentum=0.1, affine=True, track_running_stats=True)\n",
            "          (activation): LeakyReLU(negative_slope=0.1)\n",
            "        )\n",
            "      )\n",
            "      (3): Sequential(\n",
            "        (0): CNN(\n",
            "          (conv_layer): Conv2d(512, 256, kernel_size=(1, 1), stride=(1, 1), bias=False)\n",
            "          (batch_norm): BatchNorm2d(256, eps=1e-05, momentum=0.1, affine=True, track_running_stats=True)\n",
            "          (activation): LeakyReLU(negative_slope=0.1)\n",
            "        )\n",
            "        (1): CNN(\n",
            "          (conv_layer): Conv2d(256, 512, kernel_size=(3, 3), stride=(1, 1), padding=(1, 1), bias=False)\n",
            "          (batch_norm): BatchNorm2d(512, eps=1e-05, momentum=0.1, affine=True, track_running_stats=True)\n",
            "          (activation): LeakyReLU(negative_slope=0.1)\n",
            "        )\n",
            "      )\n",
            "      (4): Sequential(\n",
            "        (0): CNN(\n",
            "          (conv_layer): Conv2d(512, 256, kernel_size=(1, 1), stride=(1, 1), bias=False)\n",
            "          (batch_norm): BatchNorm2d(256, eps=1e-05, momentum=0.1, affine=True, track_running_stats=True)\n",
            "          (activation): LeakyReLU(negative_slope=0.1)\n",
            "        )\n",
            "        (1): CNN(\n",
            "          (conv_layer): Conv2d(256, 512, kernel_size=(3, 3), stride=(1, 1), padding=(1, 1), bias=False)\n",
            "          (batch_norm): BatchNorm2d(512, eps=1e-05, momentum=0.1, affine=True, track_running_stats=True)\n",
            "          (activation): LeakyReLU(negative_slope=0.1)\n",
            "        )\n",
            "      )\n",
            "      (5): Sequential(\n",
            "        (0): CNN(\n",
            "          (conv_layer): Conv2d(512, 256, kernel_size=(1, 1), stride=(1, 1), bias=False)\n",
            "          (batch_norm): BatchNorm2d(256, eps=1e-05, momentum=0.1, affine=True, track_running_stats=True)\n",
            "          (activation): LeakyReLU(negative_slope=0.1)\n",
            "        )\n",
            "        (1): CNN(\n",
            "          (conv_layer): Conv2d(256, 512, kernel_size=(3, 3), stride=(1, 1), padding=(1, 1), bias=False)\n",
            "          (batch_norm): BatchNorm2d(512, eps=1e-05, momentum=0.1, affine=True, track_running_stats=True)\n",
            "          (activation): LeakyReLU(negative_slope=0.1)\n",
            "        )\n",
            "      )\n",
            "      (6): Sequential(\n",
            "        (0): CNN(\n",
            "          (conv_layer): Conv2d(512, 256, kernel_size=(1, 1), stride=(1, 1), bias=False)\n",
            "          (batch_norm): BatchNorm2d(256, eps=1e-05, momentum=0.1, affine=True, track_running_stats=True)\n",
            "          (activation): LeakyReLU(negative_slope=0.1)\n",
            "        )\n",
            "        (1): CNN(\n",
            "          (conv_layer): Conv2d(256, 512, kernel_size=(3, 3), stride=(1, 1), padding=(1, 1), bias=False)\n",
            "          (batch_norm): BatchNorm2d(512, eps=1e-05, momentum=0.1, affine=True, track_running_stats=True)\n",
            "          (activation): LeakyReLU(negative_slope=0.1)\n",
            "        )\n",
            "      )\n",
            "      (7): Sequential(\n",
            "        (0): CNN(\n",
            "          (conv_layer): Conv2d(512, 256, kernel_size=(1, 1), stride=(1, 1), bias=False)\n",
            "          (batch_norm): BatchNorm2d(256, eps=1e-05, momentum=0.1, affine=True, track_running_stats=True)\n",
            "          (activation): LeakyReLU(negative_slope=0.1)\n",
            "        )\n",
            "        (1): CNN(\n",
            "          (conv_layer): Conv2d(256, 512, kernel_size=(3, 3), stride=(1, 1), padding=(1, 1), bias=False)\n",
            "          (batch_norm): BatchNorm2d(512, eps=1e-05, momentum=0.1, affine=True, track_running_stats=True)\n",
            "          (activation): LeakyReLU(negative_slope=0.1)\n",
            "        )\n",
            "      )\n",
            "    )\n",
            "  )\n",
            "  (9): CNN(\n",
            "    (conv_layer): Conv2d(512, 1024, kernel_size=(3, 3), stride=(2, 2), padding=(1, 1), bias=False)\n",
            "    (batch_norm): BatchNorm2d(1024, eps=1e-05, momentum=0.1, affine=True, track_running_stats=True)\n",
            "    (activation): LeakyReLU(negative_slope=0.1)\n",
            "  )\n",
            "  (10): Resnets(\n",
            "    (res_layer): ModuleList(\n",
            "      (0): Sequential(\n",
            "        (0): CNN(\n",
            "          (conv_layer): Conv2d(1024, 512, kernel_size=(1, 1), stride=(1, 1), bias=False)\n",
            "          (batch_norm): BatchNorm2d(512, eps=1e-05, momentum=0.1, affine=True, track_running_stats=True)\n",
            "          (activation): LeakyReLU(negative_slope=0.1)\n",
            "        )\n",
            "        (1): CNN(\n",
            "          (conv_layer): Conv2d(512, 1024, kernel_size=(3, 3), stride=(1, 1), padding=(1, 1), bias=False)\n",
            "          (batch_norm): BatchNorm2d(1024, eps=1e-05, momentum=0.1, affine=True, track_running_stats=True)\n",
            "          (activation): LeakyReLU(negative_slope=0.1)\n",
            "        )\n",
            "      )\n",
            "      (1): Sequential(\n",
            "        (0): CNN(\n",
            "          (conv_layer): Conv2d(1024, 512, kernel_size=(1, 1), stride=(1, 1), bias=False)\n",
            "          (batch_norm): BatchNorm2d(512, eps=1e-05, momentum=0.1, affine=True, track_running_stats=True)\n",
            "          (activation): LeakyReLU(negative_slope=0.1)\n",
            "        )\n",
            "        (1): CNN(\n",
            "          (conv_layer): Conv2d(512, 1024, kernel_size=(3, 3), stride=(1, 1), padding=(1, 1), bias=False)\n",
            "          (batch_norm): BatchNorm2d(1024, eps=1e-05, momentum=0.1, affine=True, track_running_stats=True)\n",
            "          (activation): LeakyReLU(negative_slope=0.1)\n",
            "        )\n",
            "      )\n",
            "      (2): Sequential(\n",
            "        (0): CNN(\n",
            "          (conv_layer): Conv2d(1024, 512, kernel_size=(1, 1), stride=(1, 1), bias=False)\n",
            "          (batch_norm): BatchNorm2d(512, eps=1e-05, momentum=0.1, affine=True, track_running_stats=True)\n",
            "          (activation): LeakyReLU(negative_slope=0.1)\n",
            "        )\n",
            "        (1): CNN(\n",
            "          (conv_layer): Conv2d(512, 1024, kernel_size=(3, 3), stride=(1, 1), padding=(1, 1), bias=False)\n",
            "          (batch_norm): BatchNorm2d(1024, eps=1e-05, momentum=0.1, affine=True, track_running_stats=True)\n",
            "          (activation): LeakyReLU(negative_slope=0.1)\n",
            "        )\n",
            "      )\n",
            "      (3): Sequential(\n",
            "        (0): CNN(\n",
            "          (conv_layer): Conv2d(1024, 512, kernel_size=(1, 1), stride=(1, 1), bias=False)\n",
            "          (batch_norm): BatchNorm2d(512, eps=1e-05, momentum=0.1, affine=True, track_running_stats=True)\n",
            "          (activation): LeakyReLU(negative_slope=0.1)\n",
            "        )\n",
            "        (1): CNN(\n",
            "          (conv_layer): Conv2d(512, 1024, kernel_size=(3, 3), stride=(1, 1), padding=(1, 1), bias=False)\n",
            "          (batch_norm): BatchNorm2d(1024, eps=1e-05, momentum=0.1, affine=True, track_running_stats=True)\n",
            "          (activation): LeakyReLU(negative_slope=0.1)\n",
            "        )\n",
            "      )\n",
            "    )\n",
            "  )\n",
            "  (11): CNN(\n",
            "    (conv_layer): Conv2d(1024, 512, kernel_size=(1, 1), stride=(1, 1), bias=False)\n",
            "    (batch_norm): BatchNorm2d(512, eps=1e-05, momentum=0.1, affine=True, track_running_stats=True)\n",
            "    (activation): LeakyReLU(negative_slope=0.1)\n",
            "  )\n",
            "  (12): CNN(\n",
            "    (conv_layer): Conv2d(512, 1024, kernel_size=(3, 3), stride=(1, 1), padding=(1, 1), bias=False)\n",
            "    (batch_norm): BatchNorm2d(1024, eps=1e-05, momentum=0.1, affine=True, track_running_stats=True)\n",
            "    (activation): LeakyReLU(negative_slope=0.1)\n",
            "  )\n",
            "  (13): Resnets(\n",
            "    (res_layer): ModuleList(\n",
            "      (0): Sequential(\n",
            "        (0): CNN(\n",
            "          (conv_layer): Conv2d(1024, 512, kernel_size=(1, 1), stride=(1, 1), bias=False)\n",
            "          (batch_norm): BatchNorm2d(512, eps=1e-05, momentum=0.1, affine=True, track_running_stats=True)\n",
            "          (activation): LeakyReLU(negative_slope=0.1)\n",
            "        )\n",
            "        (1): CNN(\n",
            "          (conv_layer): Conv2d(512, 1024, kernel_size=(3, 3), stride=(1, 1), padding=(1, 1), bias=False)\n",
            "          (batch_norm): BatchNorm2d(1024, eps=1e-05, momentum=0.1, affine=True, track_running_stats=True)\n",
            "          (activation): LeakyReLU(negative_slope=0.1)\n",
            "        )\n",
            "      )\n",
            "    )\n",
            "  )\n",
            "  (14): CNN(\n",
            "    (conv_layer): Conv2d(1024, 512, kernel_size=(1, 1), stride=(1, 1), bias=False)\n",
            "    (batch_norm): BatchNorm2d(512, eps=1e-05, momentum=0.1, affine=True, track_running_stats=True)\n",
            "    (activation): LeakyReLU(negative_slope=0.1)\n",
            "  )\n",
            "  (15): Preds(\n",
            "    (pred_layers): Sequential(\n",
            "      (0): CNN(\n",
            "        (conv_layer): Conv2d(512, 1024, kernel_size=(3, 3), stride=(1, 1), padding=(1, 1), bias=False)\n",
            "        (batch_norm): BatchNorm2d(1024, eps=1e-05, momentum=0.1, affine=True, track_running_stats=True)\n",
            "        (activation): LeakyReLU(negative_slope=0.1)\n",
            "      )\n",
            "      (1): CNN(\n",
            "        (conv_layer): Conv2d(1024, 105, kernel_size=(1, 1), stride=(1, 1))\n",
            "        (batch_norm): BatchNorm2d(105, eps=1e-05, momentum=0.1, affine=True, track_running_stats=True)\n",
            "        (activation): LeakyReLU(negative_slope=0.1)\n",
            "      )\n",
            "    )\n",
            "  )\n",
            "  (16): CNN(\n",
            "    (conv_layer): Conv2d(512, 256, kernel_size=(1, 1), stride=(1, 1), bias=False)\n",
            "    (batch_norm): BatchNorm2d(256, eps=1e-05, momentum=0.1, affine=True, track_running_stats=True)\n",
            "    (activation): LeakyReLU(negative_slope=0.1)\n",
            "  )\n",
            "  (17): Upsample(scale_factor=2.0, mode=nearest)\n",
            "  (18): CNN(\n",
            "    (conv_layer): Conv2d(768, 256, kernel_size=(1, 1), stride=(1, 1), bias=False)\n",
            "    (batch_norm): BatchNorm2d(256, eps=1e-05, momentum=0.1, affine=True, track_running_stats=True)\n",
            "    (activation): LeakyReLU(negative_slope=0.1)\n",
            "  )\n",
            "  (19): CNN(\n",
            "    (conv_layer): Conv2d(256, 512, kernel_size=(3, 3), stride=(1, 1), padding=(1, 1), bias=False)\n",
            "    (batch_norm): BatchNorm2d(512, eps=1e-05, momentum=0.1, affine=True, track_running_stats=True)\n",
            "    (activation): LeakyReLU(negative_slope=0.1)\n",
            "  )\n",
            "  (20): Resnets(\n",
            "    (res_layer): ModuleList(\n",
            "      (0): Sequential(\n",
            "        (0): CNN(\n",
            "          (conv_layer): Conv2d(512, 256, kernel_size=(1, 1), stride=(1, 1), bias=False)\n",
            "          (batch_norm): BatchNorm2d(256, eps=1e-05, momentum=0.1, affine=True, track_running_stats=True)\n",
            "          (activation): LeakyReLU(negative_slope=0.1)\n",
            "        )\n",
            "        (1): CNN(\n",
            "          (conv_layer): Conv2d(256, 512, kernel_size=(3, 3), stride=(1, 1), padding=(1, 1), bias=False)\n",
            "          (batch_norm): BatchNorm2d(512, eps=1e-05, momentum=0.1, affine=True, track_running_stats=True)\n",
            "          (activation): LeakyReLU(negative_slope=0.1)\n",
            "        )\n",
            "      )\n",
            "    )\n",
            "  )\n",
            "  (21): CNN(\n",
            "    (conv_layer): Conv2d(512, 256, kernel_size=(1, 1), stride=(1, 1), bias=False)\n",
            "    (batch_norm): BatchNorm2d(256, eps=1e-05, momentum=0.1, affine=True, track_running_stats=True)\n",
            "    (activation): LeakyReLU(negative_slope=0.1)\n",
            "  )\n",
            "  (22): Preds(\n",
            "    (pred_layers): Sequential(\n",
            "      (0): CNN(\n",
            "        (conv_layer): Conv2d(256, 512, kernel_size=(3, 3), stride=(1, 1), padding=(1, 1), bias=False)\n",
            "        (batch_norm): BatchNorm2d(512, eps=1e-05, momentum=0.1, affine=True, track_running_stats=True)\n",
            "        (activation): LeakyReLU(negative_slope=0.1)\n",
            "      )\n",
            "      (1): CNN(\n",
            "        (conv_layer): Conv2d(512, 105, kernel_size=(1, 1), stride=(1, 1))\n",
            "        (batch_norm): BatchNorm2d(105, eps=1e-05, momentum=0.1, affine=True, track_running_stats=True)\n",
            "        (activation): LeakyReLU(negative_slope=0.1)\n",
            "      )\n",
            "    )\n",
            "  )\n",
            "  (23): CNN(\n",
            "    (conv_layer): Conv2d(256, 128, kernel_size=(1, 1), stride=(1, 1), bias=False)\n",
            "    (batch_norm): BatchNorm2d(128, eps=1e-05, momentum=0.1, affine=True, track_running_stats=True)\n",
            "    (activation): LeakyReLU(negative_slope=0.1)\n",
            "  )\n",
            "  (24): Upsample(scale_factor=2.0, mode=nearest)\n",
            "  (25): CNN(\n",
            "    (conv_layer): Conv2d(384, 128, kernel_size=(1, 1), stride=(1, 1), bias=False)\n",
            "    (batch_norm): BatchNorm2d(128, eps=1e-05, momentum=0.1, affine=True, track_running_stats=True)\n",
            "    (activation): LeakyReLU(negative_slope=0.1)\n",
            "  )\n",
            "  (26): CNN(\n",
            "    (conv_layer): Conv2d(128, 256, kernel_size=(3, 3), stride=(1, 1), padding=(1, 1), bias=False)\n",
            "    (batch_norm): BatchNorm2d(256, eps=1e-05, momentum=0.1, affine=True, track_running_stats=True)\n",
            "    (activation): LeakyReLU(negative_slope=0.1)\n",
            "  )\n",
            "  (27): Resnets(\n",
            "    (res_layer): ModuleList(\n",
            "      (0): Sequential(\n",
            "        (0): CNN(\n",
            "          (conv_layer): Conv2d(256, 128, kernel_size=(1, 1), stride=(1, 1), bias=False)\n",
            "          (batch_norm): BatchNorm2d(128, eps=1e-05, momentum=0.1, affine=True, track_running_stats=True)\n",
            "          (activation): LeakyReLU(negative_slope=0.1)\n",
            "        )\n",
            "        (1): CNN(\n",
            "          (conv_layer): Conv2d(128, 256, kernel_size=(3, 3), stride=(1, 1), padding=(1, 1), bias=False)\n",
            "          (batch_norm): BatchNorm2d(256, eps=1e-05, momentum=0.1, affine=True, track_running_stats=True)\n",
            "          (activation): LeakyReLU(negative_slope=0.1)\n",
            "        )\n",
            "      )\n",
            "    )\n",
            "  )\n",
            "  (28): CNN(\n",
            "    (conv_layer): Conv2d(256, 128, kernel_size=(1, 1), stride=(1, 1), bias=False)\n",
            "    (batch_norm): BatchNorm2d(128, eps=1e-05, momentum=0.1, affine=True, track_running_stats=True)\n",
            "    (activation): LeakyReLU(negative_slope=0.1)\n",
            "  )\n",
            "  (29): Preds(\n",
            "    (pred_layers): Sequential(\n",
            "      (0): CNN(\n",
            "        (conv_layer): Conv2d(128, 256, kernel_size=(3, 3), stride=(1, 1), padding=(1, 1), bias=False)\n",
            "        (batch_norm): BatchNorm2d(256, eps=1e-05, momentum=0.1, affine=True, track_running_stats=True)\n",
            "        (activation): LeakyReLU(negative_slope=0.1)\n",
            "      )\n",
            "      (1): CNN(\n",
            "        (conv_layer): Conv2d(256, 105, kernel_size=(1, 1), stride=(1, 1))\n",
            "        (batch_norm): BatchNorm2d(105, eps=1e-05, momentum=0.1, affine=True, track_running_stats=True)\n",
            "        (activation): LeakyReLU(negative_slope=0.1)\n",
            "      )\n",
            "    )\n",
            "  )\n",
            ")\n",
            "Success!\n"
          ]
        }
      ]
    },
    {
      "cell_type": "code",
      "source": [],
      "metadata": {
        "id": "xFaO1_yUp8RH"
      },
      "execution_count": 83,
      "outputs": []
    }
  ],
  "metadata": {
    "colab": {
      "collapsed_sections": [],
      "provenance": [],
      "authorship_tag": "ABX9TyNbbksHqVWbaf3J3FPpb1tF",
      "include_colab_link": true
    },
    "kernelspec": {
      "display_name": "Python 3",
      "name": "python3"
    },
    "language_info": {
      "name": "python"
    }
  },
  "nbformat": 4,
  "nbformat_minor": 0
}